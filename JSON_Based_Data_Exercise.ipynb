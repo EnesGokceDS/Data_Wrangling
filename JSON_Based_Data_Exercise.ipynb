{
  "nbformat": 4,
  "nbformat_minor": 0,
  "metadata": {
    "kernelspec": {
      "display_name": "Python 3",
      "language": "python",
      "name": "python3"
    },
    "language_info": {
      "codemirror_mode": {
        "name": "ipython",
        "version": 3
      },
      "file_extension": ".py",
      "mimetype": "text/x-python",
      "name": "python",
      "nbconvert_exporter": "python",
      "pygments_lexer": "ipython3",
      "version": "3.7.3"
    },
    "colab": {
      "name": "JSON_Based_Data_Exercise.ipynb",
      "provenance": [],
      "include_colab_link": true
    }
  },
  "cells": [
    {
      "cell_type": "markdown",
      "metadata": {
        "id": "view-in-github",
        "colab_type": "text"
      },
      "source": [
        "<a href=\"https://colab.research.google.com/github/EnesGokceDS/Data_Wrangling/blob/master/JSON_Based_Data_Exercise.ipynb\" target=\"_parent\"><img src=\"https://colab.research.google.com/assets/colab-badge.svg\" alt=\"Open In Colab\"/></a>"
      ]
    },
    {
      "cell_type": "markdown",
      "metadata": {
        "id": "80BIF2BXt6kF",
        "colab_type": "text"
      },
      "source": [
        "# JSON examples and exercise\n",
        "****\n",
        "+ get familiar with packages for dealing with JSON\n",
        "+ study examples with JSON strings and files \n",
        "+ work on exercise to be completed and submitted \n",
        "****\n",
        "+ reference: http://pandas.pydata.org/pandas-docs/stable/io.html#io-json-reader\n",
        "****"
      ]
    },
    {
      "cell_type": "code",
      "metadata": {
        "id": "9BxqTERJt6kH",
        "colab_type": "code",
        "colab": {}
      },
      "source": [
        "import pandas as pd"
      ],
      "execution_count": 0,
      "outputs": []
    },
    {
      "cell_type": "markdown",
      "metadata": {
        "id": "3GQr4ajOt6kV",
        "colab_type": "text"
      },
      "source": [
        "## imports for Python, Pandas"
      ]
    },
    {
      "cell_type": "code",
      "metadata": {
        "id": "tUS3Frn8t6kW",
        "colab_type": "code",
        "colab": {}
      },
      "source": [
        "import json\n",
        "from pandas.io.json import json_normalize"
      ],
      "execution_count": 0,
      "outputs": []
    },
    {
      "cell_type": "markdown",
      "metadata": {
        "id": "m1PVE6Zdt6ke",
        "colab_type": "text"
      },
      "source": [
        "## JSON example, with string\n",
        "\n",
        "+ demonstrates creation of normalized dataframes (tables) from nested json string\n",
        "+ source: http://pandas.pydata.org/pandas-docs/stable/io.html#normalization"
      ]
    },
    {
      "cell_type": "code",
      "metadata": {
        "id": "JeJAMYWUt6kg",
        "colab_type": "code",
        "colab": {}
      },
      "source": [
        "# define json string\n",
        "data = [{'state': 'Florida', \n",
        "         'shortname': 'FL',\n",
        "         'info': {'governor': 'Rick Scott'},\n",
        "         'counties': [{'name': 'Dade', 'population': 12345},\n",
        "                      {'name': 'Broward', 'population': 40000},\n",
        "                      {'name': 'Palm Beach', 'population': 60000}]},\n",
        "        {'state': 'Ohio',\n",
        "         'shortname': 'OH',\n",
        "         'info': {'governor': 'John Kasich'},\n",
        "         'counties': [{'name': 'Summit', 'population': 1234},\n",
        "                      {'name': 'Cuyahoga', 'population': 1337}]}]"
      ],
      "execution_count": 0,
      "outputs": []
    },
    {
      "cell_type": "code",
      "metadata": {
        "id": "XP6wGhBJt6kn",
        "colab_type": "code",
        "colab": {
          "base_uri": "https://localhost:8080/",
          "height": 243
        },
        "outputId": "69d1bf9a-e24e-4db4-d624-098b73b0e8a2"
      },
      "source": [
        "# use normalization to create tables from nested element\n",
        "json_normalize(data, 'counties')"
      ],
      "execution_count": 4,
      "outputs": [
        {
          "output_type": "stream",
          "text": [
            "/usr/local/lib/python3.6/dist-packages/ipykernel_launcher.py:2: FutureWarning: pandas.io.json.json_normalize is deprecated, use pandas.json_normalize instead\n",
            "  \n"
          ],
          "name": "stderr"
        },
        {
          "output_type": "execute_result",
          "data": {
            "text/html": [
              "<div>\n",
              "<style scoped>\n",
              "    .dataframe tbody tr th:only-of-type {\n",
              "        vertical-align: middle;\n",
              "    }\n",
              "\n",
              "    .dataframe tbody tr th {\n",
              "        vertical-align: top;\n",
              "    }\n",
              "\n",
              "    .dataframe thead th {\n",
              "        text-align: right;\n",
              "    }\n",
              "</style>\n",
              "<table border=\"1\" class=\"dataframe\">\n",
              "  <thead>\n",
              "    <tr style=\"text-align: right;\">\n",
              "      <th></th>\n",
              "      <th>name</th>\n",
              "      <th>population</th>\n",
              "    </tr>\n",
              "  </thead>\n",
              "  <tbody>\n",
              "    <tr>\n",
              "      <th>0</th>\n",
              "      <td>Dade</td>\n",
              "      <td>12345</td>\n",
              "    </tr>\n",
              "    <tr>\n",
              "      <th>1</th>\n",
              "      <td>Broward</td>\n",
              "      <td>40000</td>\n",
              "    </tr>\n",
              "    <tr>\n",
              "      <th>2</th>\n",
              "      <td>Palm Beach</td>\n",
              "      <td>60000</td>\n",
              "    </tr>\n",
              "    <tr>\n",
              "      <th>3</th>\n",
              "      <td>Summit</td>\n",
              "      <td>1234</td>\n",
              "    </tr>\n",
              "    <tr>\n",
              "      <th>4</th>\n",
              "      <td>Cuyahoga</td>\n",
              "      <td>1337</td>\n",
              "    </tr>\n",
              "  </tbody>\n",
              "</table>\n",
              "</div>"
            ],
            "text/plain": [
              "         name  population\n",
              "0        Dade       12345\n",
              "1     Broward       40000\n",
              "2  Palm Beach       60000\n",
              "3      Summit        1234\n",
              "4    Cuyahoga        1337"
            ]
          },
          "metadata": {
            "tags": []
          },
          "execution_count": 4
        }
      ]
    },
    {
      "cell_type": "code",
      "metadata": {
        "id": "CX8ID2Nwt6kv",
        "colab_type": "code",
        "colab": {
          "base_uri": "https://localhost:8080/",
          "height": 243
        },
        "outputId": "786b6923-f4a9-4576-e9cd-699fde86b552"
      },
      "source": [
        "# further populate tables created from nested element\n",
        "json_normalize(data, 'counties', ['state', 'shortname', ['info', 'governor']])"
      ],
      "execution_count": 5,
      "outputs": [
        {
          "output_type": "stream",
          "text": [
            "/usr/local/lib/python3.6/dist-packages/ipykernel_launcher.py:2: FutureWarning: pandas.io.json.json_normalize is deprecated, use pandas.json_normalize instead\n",
            "  \n"
          ],
          "name": "stderr"
        },
        {
          "output_type": "execute_result",
          "data": {
            "text/html": [
              "<div>\n",
              "<style scoped>\n",
              "    .dataframe tbody tr th:only-of-type {\n",
              "        vertical-align: middle;\n",
              "    }\n",
              "\n",
              "    .dataframe tbody tr th {\n",
              "        vertical-align: top;\n",
              "    }\n",
              "\n",
              "    .dataframe thead th {\n",
              "        text-align: right;\n",
              "    }\n",
              "</style>\n",
              "<table border=\"1\" class=\"dataframe\">\n",
              "  <thead>\n",
              "    <tr style=\"text-align: right;\">\n",
              "      <th></th>\n",
              "      <th>name</th>\n",
              "      <th>population</th>\n",
              "      <th>state</th>\n",
              "      <th>shortname</th>\n",
              "      <th>info.governor</th>\n",
              "    </tr>\n",
              "  </thead>\n",
              "  <tbody>\n",
              "    <tr>\n",
              "      <th>0</th>\n",
              "      <td>Dade</td>\n",
              "      <td>12345</td>\n",
              "      <td>Florida</td>\n",
              "      <td>FL</td>\n",
              "      <td>Rick Scott</td>\n",
              "    </tr>\n",
              "    <tr>\n",
              "      <th>1</th>\n",
              "      <td>Broward</td>\n",
              "      <td>40000</td>\n",
              "      <td>Florida</td>\n",
              "      <td>FL</td>\n",
              "      <td>Rick Scott</td>\n",
              "    </tr>\n",
              "    <tr>\n",
              "      <th>2</th>\n",
              "      <td>Palm Beach</td>\n",
              "      <td>60000</td>\n",
              "      <td>Florida</td>\n",
              "      <td>FL</td>\n",
              "      <td>Rick Scott</td>\n",
              "    </tr>\n",
              "    <tr>\n",
              "      <th>3</th>\n",
              "      <td>Summit</td>\n",
              "      <td>1234</td>\n",
              "      <td>Ohio</td>\n",
              "      <td>OH</td>\n",
              "      <td>John Kasich</td>\n",
              "    </tr>\n",
              "    <tr>\n",
              "      <th>4</th>\n",
              "      <td>Cuyahoga</td>\n",
              "      <td>1337</td>\n",
              "      <td>Ohio</td>\n",
              "      <td>OH</td>\n",
              "      <td>John Kasich</td>\n",
              "    </tr>\n",
              "  </tbody>\n",
              "</table>\n",
              "</div>"
            ],
            "text/plain": [
              "         name  population    state shortname info.governor\n",
              "0        Dade       12345  Florida        FL    Rick Scott\n",
              "1     Broward       40000  Florida        FL    Rick Scott\n",
              "2  Palm Beach       60000  Florida        FL    Rick Scott\n",
              "3      Summit        1234     Ohio        OH   John Kasich\n",
              "4    Cuyahoga        1337     Ohio        OH   John Kasich"
            ]
          },
          "metadata": {
            "tags": []
          },
          "execution_count": 5
        }
      ]
    },
    {
      "cell_type": "markdown",
      "metadata": {
        "id": "RV0fME8nt6k2",
        "colab_type": "text"
      },
      "source": [
        "****\n",
        "## JSON example, with file\n",
        "\n",
        "+ demonstrates reading in a json file as a string and as a table\n",
        "+ uses small sample file containing data about projects funded by the World Bank "
      ]
    },
    {
      "cell_type": "code",
      "metadata": {
        "id": "Iggsta-Q3w2x",
        "colab_type": "code",
        "colab": {
          "base_uri": "https://localhost:8080/",
          "height": 36
        },
        "outputId": "f567af59-1fed-49ae-dd86-570af2680c44"
      },
      "source": [
        "import subprocess as sp\n",
        "import sys,os,shutil,pickle,time\n",
        "from os.path import join\n",
        "# mount Google Drive\n",
        "from os.path import expanduser\n",
        "gd_path=join(expanduser(\"~\"),'gd')\n",
        "if not os.path.isdir(gd_path):\n",
        "    try:\n",
        "        # load Google Drive\n",
        "        from google.colab import drive,files\n",
        "        drive.mount('/drive')\n",
        "        sp.call('ln -s /drive/My\\ Drive '+gd_path, shell=True)\n",
        "    except:\n",
        "        print('unable to find Google Drive Folder')\n",
        "os.chdir(gd_path+'/MachineLearning/J_son')\n",
        "os.listdir('.')"
      ],
      "execution_count": 30,
      "outputs": [
        {
          "output_type": "execute_result",
          "data": {
            "text/plain": [
              "['.DS_Store', 'world_bank_projects.json', 'world_bank_projects_less.json']"
            ]
          },
          "metadata": {
            "tags": []
          },
          "execution_count": 30
        }
      ]
    },
    {
      "cell_type": "code",
      "metadata": {
        "id": "hY38IRE54MN0",
        "colab_type": "code",
        "colab": {
          "base_uri": "https://localhost:8080/",
          "height": 1000
        },
        "outputId": "291ac69b-fbb4-4e70-a679-44c46c8dc63a"
      },
      "source": [
        "# load json as string\n",
        "json.load((open('world_bank_projects_less.json')))"
      ],
      "execution_count": 31,
      "outputs": [
        {
          "output_type": "execute_result",
          "data": {
            "text/plain": [
              "[{'_id': {'$oid': '52b213b38594d8a2be17c780'},\n",
              "  'approvalfy': 1999,\n",
              "  'board_approval_month': 'November',\n",
              "  'boardapprovaldate': '2013-11-12T00:00:00Z',\n",
              "  'borrower': 'FEDERAL DEMOCRATIC REPUBLIC OF ETHIOPIA',\n",
              "  'closingdate': '2018-07-07T00:00:00Z',\n",
              "  'country_namecode': 'Federal Democratic Republic of Ethiopia!$!ET',\n",
              "  'countrycode': 'ET',\n",
              "  'countryname': 'Federal Democratic Republic of Ethiopia',\n",
              "  'countryshortname': 'Ethiopia',\n",
              "  'docty': 'Project Information Document,Indigenous Peoples Plan,Project Information Document',\n",
              "  'envassesmentcategorycode': 'C',\n",
              "  'grantamt': 0,\n",
              "  'ibrdcommamt': 0,\n",
              "  'id': 'P129828',\n",
              "  'idacommamt': 130000000,\n",
              "  'impagency': 'MINISTRY OF EDUCATION',\n",
              "  'lendinginstr': 'Investment Project Financing',\n",
              "  'lendinginstrtype': 'IN',\n",
              "  'lendprojectcost': 550000000,\n",
              "  'majorsector_percent': [{'Name': 'Education', 'Percent': 46},\n",
              "   {'Name': 'Education', 'Percent': 26},\n",
              "   {'Name': 'Public Administration, Law, and Justice', 'Percent': 16},\n",
              "   {'Name': 'Education', 'Percent': 12}],\n",
              "  'mjsector_namecode': [{'code': 'EX', 'name': 'Education'},\n",
              "   {'code': 'EX', 'name': 'Education'},\n",
              "   {'code': 'BX', 'name': 'Public Administration, Law, and Justice'},\n",
              "   {'code': 'EX', 'name': 'Education'}],\n",
              "  'mjtheme': ['Human development'],\n",
              "  'mjtheme_namecode': [{'code': '8', 'name': 'Human development'},\n",
              "   {'code': '11', 'name': ''}],\n",
              "  'mjthemecode': '8,11',\n",
              "  'prodline': 'PE',\n",
              "  'prodlinetext': 'IBRD/IDA',\n",
              "  'productlinetype': 'L',\n",
              "  'project_abstract': {'cdata': 'The development objective of the Second Phase of General Education Quality Improvement Project for Ethiopia is to improve learning conditions in primary and secondary schools and strengthen institutions at different levels of educational administration. The project has six components. The first component is curriculum, textbooks, assessment, examinations, and inspection. This component will support improvement of learning conditions in grades KG-12 by providing increased access to teaching and learning materials and through improvements to the curriculum by assessing the strengths and weaknesses of the current curriculum. This component has following four sub-components: (i) curriculum reform and implementation; (ii) teaching and learning materials; (iii) assessment and examinations; and (iv) inspection. The second component is teacher development program (TDP). This component will support improvements in learning conditions in both primary and secondary schools by advancing the quality of teaching in general education through: (a) enhancing the training of pre-service teachers in teacher education institutions; and (b) improving the quality of in-service teacher training. This component has following three sub-components: (i) pre-service teacher training; (ii) in-service teacher training; and (iii) licensing and relicensing of teachers and school leaders. The third component is school improvement plan. This component will support the strengthening of school planning in order to improve learning outcomes, and to partly fund the school improvement plans through school grants. It has following two sub-components: (i) school improvement plan; and (ii) school grants. The fourth component is management and capacity building, including education management information systems (EMIS). This component will support management and capacity building aspect of the project. This component has following three sub-components: (i) capacity building for education planning and management; (ii) capacity building for school planning and management; and (iii) EMIS. The fifth component is improving the quality of learning and teaching in secondary schools and universities through the use of information and communications technology (ICT). It has following five sub-components: (i) national policy and institution for ICT in general education; (ii) national ICT infrastructure improvement plan for general education; (iii) develop an integrated monitoring, evaluation, and learning system specifically for the ICT component; (iv) teacher professional development in the use of ICT; and (v) provision of limited number of e-Braille display readers with the possibility to scale up to all secondary education schools based on the successful implementation and usage of the readers. The sixth component is program coordination, monitoring and evaluation, and communication. It will support institutional strengthening by developing capacities in all aspects of program coordination, monitoring and evaluation; a new sub-component on communications will support information sharing for better management and accountability. It has following three sub-components: (i) program coordination; (ii) monitoring and evaluation (M and E); and (iii) communication.'},\n",
              "  'project_name': 'Ethiopia General Education Quality Improvement Project II',\n",
              "  'projectdocs': [{'DocDate': '28-AUG-2013',\n",
              "    'DocType': 'PID',\n",
              "    'DocTypeDesc': 'Project Information Document (PID),  Vol.',\n",
              "    'DocURL': 'http://www-wds.worldbank.org/servlet/WDSServlet?pcont=details&eid=090224b081e545fb_1_0',\n",
              "    'EntityID': '090224b081e545fb_1_0'},\n",
              "   {'DocDate': '01-JUL-2013',\n",
              "    'DocType': 'IP',\n",
              "    'DocTypeDesc': 'Indigenous Peoples Plan (IP),  Vol.1 of 1',\n",
              "    'DocURL': 'http://www-wds.worldbank.org/servlet/WDSServlet?pcont=details&eid=000442464_20130920111729',\n",
              "    'EntityID': '000442464_20130920111729'},\n",
              "   {'DocDate': '22-NOV-2012',\n",
              "    'DocType': 'PID',\n",
              "    'DocTypeDesc': 'Project Information Document (PID),  Vol.',\n",
              "    'DocURL': 'http://www-wds.worldbank.org/servlet/WDSServlet?pcont=details&eid=090224b0817b19e2_1_0',\n",
              "    'EntityID': '090224b0817b19e2_1_0'}],\n",
              "  'projectfinancialtype': 'IDA',\n",
              "  'projectstatusdisplay': 'Active',\n",
              "  'regionname': 'Africa',\n",
              "  'sector': [{'Name': 'Primary education'},\n",
              "   {'Name': 'Secondary education'},\n",
              "   {'Name': 'Public administration- Other social services'},\n",
              "   {'Name': 'Tertiary education'}],\n",
              "  'sector1': {'Name': 'Primary education', 'Percent': 46},\n",
              "  'sector2': {'Name': 'Secondary education', 'Percent': 26},\n",
              "  'sector3': {'Name': 'Public administration- Other social services',\n",
              "   'Percent': 16},\n",
              "  'sector4': {'Name': 'Tertiary education', 'Percent': 12},\n",
              "  'sector_namecode': [{'code': 'EP', 'name': 'Primary education'},\n",
              "   {'code': 'ES', 'name': 'Secondary education'},\n",
              "   {'code': 'BS', 'name': 'Public administration- Other social services'},\n",
              "   {'code': 'ET', 'name': 'Tertiary education'}],\n",
              "  'sectorcode': 'ET,BS,ES,EP',\n",
              "  'source': 'IBRD',\n",
              "  'status': 'Active',\n",
              "  'supplementprojectflg': 'N',\n",
              "  'theme1': {'Name': 'Education for all', 'Percent': 100},\n",
              "  'theme_namecode': [{'code': '65', 'name': 'Education for all'}],\n",
              "  'themecode': '65',\n",
              "  'totalamt': 130000000,\n",
              "  'totalcommamt': 130000000,\n",
              "  'url': 'http://www.worldbank.org/projects/P129828/ethiopia-general-education-quality-improvement-project-ii?lang=en'},\n",
              " {'_id': {'$oid': '52b213b38594d8a2be17c781'},\n",
              "  'approvalfy': 2015,\n",
              "  'board_approval_month': 'November',\n",
              "  'boardapprovaldate': '2013-11-04T00:00:00Z',\n",
              "  'borrower': 'GOVERNMENT OF TUNISIA',\n",
              "  'country_namecode': 'Republic of Tunisia!$!TN',\n",
              "  'countrycode': 'TN',\n",
              "  'countryname': 'Republic of Tunisia',\n",
              "  'countryshortname': 'Tunisia',\n",
              "  'docty': 'Project Information Document,Integrated Safeguards Data Sheet,Integrated Safeguards Data Sheet,Project Information Document,Integrated Safeguards Data Sheet,Project Information Document',\n",
              "  'envassesmentcategorycode': 'C',\n",
              "  'grantamt': 4700000,\n",
              "  'ibrdcommamt': 0,\n",
              "  'id': 'P144674',\n",
              "  'idacommamt': 0,\n",
              "  'impagency': 'MINISTRY OF FINANCE',\n",
              "  'lendinginstr': 'Specific Investment Loan',\n",
              "  'lendinginstrtype': 'IN',\n",
              "  'lendprojectcost': 5700000,\n",
              "  'majorsector_percent': [{'Name': 'Public Administration, Law, and Justice',\n",
              "    'Percent': 70},\n",
              "   {'Name': 'Public Administration, Law, and Justice', 'Percent': 30}],\n",
              "  'mjsector_namecode': [{'code': 'BX',\n",
              "    'name': 'Public Administration, Law, and Justice'},\n",
              "   {'code': 'BX', 'name': 'Public Administration, Law, and Justice'}],\n",
              "  'mjtheme': ['Economic management', 'Social protection and risk management'],\n",
              "  'mjtheme_namecode': [{'code': '1', 'name': 'Economic management'},\n",
              "   {'code': '6', 'name': 'Social protection and risk management'}],\n",
              "  'mjthemecode': '1,6',\n",
              "  'prodline': 'RE',\n",
              "  'prodlinetext': 'Recipient Executed Activities',\n",
              "  'productlinetype': 'L',\n",
              "  'project_name': 'TN: DTF Social Protection Reforms Support',\n",
              "  'projectdocs': [{'DocDate': '29-MAR-2013',\n",
              "    'DocType': 'PID',\n",
              "    'DocTypeDesc': 'Project Information Document (PID),  Vol.1 of 1',\n",
              "    'DocURL': 'http://www-wds.worldbank.org/servlet/WDSServlet?pcont=details&eid=000333037_20131024115616',\n",
              "    'EntityID': '000333037_20131024115616'},\n",
              "   {'DocDate': '29-MAR-2013',\n",
              "    'DocType': 'ISDS',\n",
              "    'DocTypeDesc': 'Integrated Safeguards Data Sheet (ISDS),  Vol.1 of 1',\n",
              "    'DocURL': 'http://www-wds.worldbank.org/servlet/WDSServlet?pcont=details&eid=000356161_20131024151611',\n",
              "    'EntityID': '000356161_20131024151611'},\n",
              "   {'DocDate': '29-MAR-2013',\n",
              "    'DocType': 'ISDS',\n",
              "    'DocTypeDesc': 'Integrated Safeguards Data Sheet (ISDS),  Vol.1 of 1',\n",
              "    'DocURL': 'http://www-wds.worldbank.org/servlet/WDSServlet?pcont=details&eid=000442464_20131031112136',\n",
              "    'EntityID': '000442464_20131031112136'},\n",
              "   {'DocDate': '29-MAR-2013',\n",
              "    'DocType': 'PID',\n",
              "    'DocTypeDesc': 'Project Information Document (PID),  Vol.1 of 1',\n",
              "    'DocURL': 'http://www-wds.worldbank.org/servlet/WDSServlet?pcont=details&eid=000333037_20131031105716',\n",
              "    'EntityID': '000333037_20131031105716'},\n",
              "   {'DocDate': '16-JAN-2013',\n",
              "    'DocType': 'ISDS',\n",
              "    'DocTypeDesc': 'Integrated Safeguards Data Sheet (ISDS),  Vol.1 of 1',\n",
              "    'DocURL': 'http://www-wds.worldbank.org/servlet/WDSServlet?pcont=details&eid=000356161_20130305113209',\n",
              "    'EntityID': '000356161_20130305113209'},\n",
              "   {'DocDate': '16-JAN-2013',\n",
              "    'DocType': 'PID',\n",
              "    'DocTypeDesc': 'Project Information Document (PID),  Vol.1 of 1',\n",
              "    'DocURL': 'http://www-wds.worldbank.org/servlet/WDSServlet?pcont=details&eid=000356161_20130305113716',\n",
              "    'EntityID': '000356161_20130305113716'}],\n",
              "  'projectfinancialtype': 'OTHER',\n",
              "  'projectstatusdisplay': 'Active',\n",
              "  'regionname': 'Middle East and North Africa',\n",
              "  'sector': [{'Name': 'Public administration- Other social services'},\n",
              "   {'Name': 'General public administration sector'}],\n",
              "  'sector1': {'Name': 'Public administration- Other social services',\n",
              "   'Percent': 70},\n",
              "  'sector2': {'Name': 'General public administration sector', 'Percent': 30},\n",
              "  'sector_namecode': [{'code': 'BS',\n",
              "    'name': 'Public administration- Other social services'},\n",
              "   {'code': 'BZ', 'name': 'General public administration sector'}],\n",
              "  'sectorcode': 'BZ,BS',\n",
              "  'source': 'IBRD',\n",
              "  'status': 'Active',\n",
              "  'supplementprojectflg': 'N',\n",
              "  'theme1': {'Name': 'Other economic management', 'Percent': 30},\n",
              "  'theme_namecode': [{'code': '24', 'name': 'Other economic management'},\n",
              "   {'code': '54', 'name': 'Social safety nets'}],\n",
              "  'themecode': '54,24',\n",
              "  'totalamt': 0,\n",
              "  'totalcommamt': 4700000,\n",
              "  'url': 'http://www.worldbank.org/projects/P144674?lang=en'}]"
            ]
          },
          "metadata": {
            "tags": []
          },
          "execution_count": 31
        }
      ]
    },
    {
      "cell_type": "code",
      "metadata": {
        "id": "M88mYVHnt6k8",
        "colab_type": "code",
        "colab": {
          "base_uri": "https://localhost:8080/",
          "height": 1000
        },
        "outputId": "69d72985-041b-48e0-8f0f-1eb259c905b1"
      },
      "source": [
        "# load as Pandas dataframe\n",
        "df = pd.read_json('world_bank_projects.json')\n",
        "df.info()"
      ],
      "execution_count": 40,
      "outputs": [
        {
          "output_type": "stream",
          "text": [
            "<class 'pandas.core.frame.DataFrame'>\n",
            "RangeIndex: 500 entries, 0 to 499\n",
            "Data columns (total 50 columns):\n",
            " #   Column                    Non-Null Count  Dtype \n",
            "---  ------                    --------------  ----- \n",
            " 0   sector                    500 non-null    object\n",
            " 1   supplementprojectflg      498 non-null    object\n",
            " 2   projectfinancialtype      500 non-null    object\n",
            " 3   prodline                  500 non-null    object\n",
            " 4   mjtheme                   491 non-null    object\n",
            " 5   idacommamt                500 non-null    int64 \n",
            " 6   impagency                 472 non-null    object\n",
            " 7   project_name              500 non-null    object\n",
            " 8   mjthemecode               500 non-null    object\n",
            " 9   closingdate               370 non-null    object\n",
            " 10  totalcommamt              500 non-null    int64 \n",
            " 11  id                        500 non-null    object\n",
            " 12  mjsector_namecode         500 non-null    object\n",
            " 13  docty                     446 non-null    object\n",
            " 14  sector1                   500 non-null    object\n",
            " 15  lendinginstr              495 non-null    object\n",
            " 16  countrycode               500 non-null    object\n",
            " 17  sector2                   380 non-null    object\n",
            " 18  totalamt                  500 non-null    int64 \n",
            " 19  mjtheme_namecode          500 non-null    object\n",
            " 20  boardapprovaldate         500 non-null    object\n",
            " 21  countryshortname          500 non-null    object\n",
            " 22  sector4                   174 non-null    object\n",
            " 23  prodlinetext              500 non-null    object\n",
            " 24  productlinetype           500 non-null    object\n",
            " 25  regionname                500 non-null    object\n",
            " 26  status                    500 non-null    object\n",
            " 27  country_namecode          500 non-null    object\n",
            " 28  envassesmentcategorycode  430 non-null    object\n",
            " 29  project_abstract          362 non-null    object\n",
            " 30  approvalfy                500 non-null    int64 \n",
            " 31  projectdocs               446 non-null    object\n",
            " 32  lendprojectcost           500 non-null    int64 \n",
            " 33  lendinginstrtype          495 non-null    object\n",
            " 34  theme1                    500 non-null    object\n",
            " 35  grantamt                  500 non-null    int64 \n",
            " 36  themecode                 491 non-null    object\n",
            " 37  borrower                  485 non-null    object\n",
            " 38  sectorcode                500 non-null    object\n",
            " 39  sector3                   265 non-null    object\n",
            " 40  majorsector_percent       500 non-null    object\n",
            " 41  board_approval_month      500 non-null    object\n",
            " 42  theme_namecode            491 non-null    object\n",
            " 43  countryname               500 non-null    object\n",
            " 44  url                       500 non-null    object\n",
            " 45  source                    500 non-null    object\n",
            " 46  projectstatusdisplay      500 non-null    object\n",
            " 47  ibrdcommamt               500 non-null    int64 \n",
            " 48  sector_namecode           500 non-null    object\n",
            " 49  _id                       500 non-null    object\n",
            "dtypes: int64(7), object(43)\n",
            "memory usage: 195.4+ KB\n"
          ],
          "name": "stdout"
        }
      ]
    },
    {
      "cell_type": "markdown",
      "metadata": {
        "id": "LCzECfzvt6lC",
        "colab_type": "text"
      },
      "source": [
        "****\n",
        "## JSON exercise\n",
        "\n",
        "Using data in file 'data/world_bank_projects.json' and the techniques demonstrated above,\n",
        "1. Find the 10 countries with most projects\n",
        "2. Find the top 10 major project themes (using column 'mjtheme_namecode')\n",
        "3. In 2. above you will notice that some entries have only the code and the name is missing. Create a dataframe with the missing names filled in."
      ]
    },
    {
      "cell_type": "markdown",
      "metadata": {
        "id": "DBXRwQuO4Zuq",
        "colab_type": "text"
      },
      "source": [
        "1. **Find the 10 countries with most projects**"
      ]
    },
    {
      "cell_type": "code",
      "metadata": {
        "id": "7EYHaOT66oZN",
        "colab_type": "code",
        "colab": {
          "base_uri": "https://localhost:8080/",
          "height": 222
        },
        "outputId": "4bd36511-4b6a-4492-aa3e-f65757e1f493"
      },
      "source": [
        "df.countryname.value_counts().head(10)"
      ],
      "execution_count": 55,
      "outputs": [
        {
          "output_type": "execute_result",
          "data": {
            "text/plain": [
              "People's Republic of China         19\n",
              "Republic of Indonesia              19\n",
              "Socialist Republic of Vietnam      17\n",
              "Republic of India                  16\n",
              "Republic of Yemen                  13\n",
              "Nepal                              12\n",
              "Kingdom of Morocco                 12\n",
              "People's Republic of Bangladesh    12\n",
              "Republic of Mozambique             11\n",
              "Africa                             11\n",
              "Name: countryname, dtype: int64"
            ]
          },
          "metadata": {
            "tags": []
          },
          "execution_count": 55
        }
      ]
    },
    {
      "cell_type": "markdown",
      "metadata": {
        "id": "nytx3K_P6_5v",
        "colab_type": "text"
      },
      "source": [
        "2. **Find the top 10 major project themes (using column 'mjtheme_namecode')**"
      ]
    },
    {
      "cell_type": "code",
      "metadata": {
        "id": "jO9O1hQF6-I7",
        "colab_type": "code",
        "colab": {
          "base_uri": "https://localhost:8080/",
          "height": 400
        },
        "outputId": "866f8832-ff6d-4233-a5d4-49bf5ac5eb4a"
      },
      "source": [
        "# Create a temporary Pandas DataFrame that has two columns: code and name\n",
        "temp = pd.DataFrame(columns=['code','name'])\n",
        "# Extract the data\n",
        "for row in df.mjtheme_namecode:\n",
        "    temp = temp.append(json_normalize(row))\n",
        "# Reset Index\n",
        "temp.reset_index(drop=True,inplace=True)\n",
        "# Count values and assign it to the new df\n",
        "th = temp.name.value_counts().to_frame()\n",
        "th.reset_index(inplace=True)\n",
        "# Column Assignment\n",
        "th.columns = ['Project_Name','Project_Counts']\n",
        "# Print top 10\n",
        "th.head(10)"
      ],
      "execution_count": 57,
      "outputs": [
        {
          "output_type": "stream",
          "text": [
            "/usr/local/lib/python3.6/dist-packages/ipykernel_launcher.py:5: FutureWarning: pandas.io.json.json_normalize is deprecated, use pandas.json_normalize instead\n",
            "  \"\"\"\n"
          ],
          "name": "stderr"
        },
        {
          "output_type": "execute_result",
          "data": {
            "text/html": [
              "<div>\n",
              "<style scoped>\n",
              "    .dataframe tbody tr th:only-of-type {\n",
              "        vertical-align: middle;\n",
              "    }\n",
              "\n",
              "    .dataframe tbody tr th {\n",
              "        vertical-align: top;\n",
              "    }\n",
              "\n",
              "    .dataframe thead th {\n",
              "        text-align: right;\n",
              "    }\n",
              "</style>\n",
              "<table border=\"1\" class=\"dataframe\">\n",
              "  <thead>\n",
              "    <tr style=\"text-align: right;\">\n",
              "      <th></th>\n",
              "      <th>Project_Name</th>\n",
              "      <th>Project_Counts</th>\n",
              "    </tr>\n",
              "  </thead>\n",
              "  <tbody>\n",
              "    <tr>\n",
              "      <th>0</th>\n",
              "      <td>Environment and natural resources management</td>\n",
              "      <td>223</td>\n",
              "    </tr>\n",
              "    <tr>\n",
              "      <th>1</th>\n",
              "      <td>Rural development</td>\n",
              "      <td>202</td>\n",
              "    </tr>\n",
              "    <tr>\n",
              "      <th>2</th>\n",
              "      <td>Human development</td>\n",
              "      <td>197</td>\n",
              "    </tr>\n",
              "    <tr>\n",
              "      <th>3</th>\n",
              "      <td>Public sector governance</td>\n",
              "      <td>184</td>\n",
              "    </tr>\n",
              "    <tr>\n",
              "      <th>4</th>\n",
              "      <td>Social protection and risk management</td>\n",
              "      <td>158</td>\n",
              "    </tr>\n",
              "    <tr>\n",
              "      <th>5</th>\n",
              "      <td>Financial and private sector development</td>\n",
              "      <td>130</td>\n",
              "    </tr>\n",
              "    <tr>\n",
              "      <th>6</th>\n",
              "      <td></td>\n",
              "      <td>122</td>\n",
              "    </tr>\n",
              "    <tr>\n",
              "      <th>7</th>\n",
              "      <td>Social dev/gender/inclusion</td>\n",
              "      <td>119</td>\n",
              "    </tr>\n",
              "    <tr>\n",
              "      <th>8</th>\n",
              "      <td>Trade and integration</td>\n",
              "      <td>72</td>\n",
              "    </tr>\n",
              "    <tr>\n",
              "      <th>9</th>\n",
              "      <td>Urban development</td>\n",
              "      <td>47</td>\n",
              "    </tr>\n",
              "  </tbody>\n",
              "</table>\n",
              "</div>"
            ],
            "text/plain": [
              "                                   Project_Name  Project_Counts\n",
              "0  Environment and natural resources management             223\n",
              "1                             Rural development             202\n",
              "2                             Human development             197\n",
              "3                      Public sector governance             184\n",
              "4         Social protection and risk management             158\n",
              "5      Financial and private sector development             130\n",
              "6                                                           122\n",
              "7                   Social dev/gender/inclusion             119\n",
              "8                         Trade and integration              72\n",
              "9                             Urban development              47"
            ]
          },
          "metadata": {
            "tags": []
          },
          "execution_count": 57
        }
      ]
    },
    {
      "cell_type": "markdown",
      "metadata": {
        "id": "I0wlWyie9EX_",
        "colab_type": "text"
      },
      "source": [
        "3. **In 2. above you will notice that some entries have only the code and the name is missing. Create a dataframe with the missing names filled in.**"
      ]
    },
    {
      "cell_type": "code",
      "metadata": {
        "id": "atlD1wSj7ahh",
        "colab_type": "code",
        "colab": {
          "base_uri": "https://localhost:8080/",
          "height": 240
        },
        "outputId": "63e14593-bec2-404b-8841-efc7bae74f98"
      },
      "source": [
        "# Let's check how many different type of project codes in temp DataFrame\n",
        "project_codes = pd.to_numeric(temp.code.drop_duplicates()).sort_values(ascending=True).reset_index(drop=True)\n",
        "project_codes "
      ],
      "execution_count": 59,
      "outputs": [
        {
          "output_type": "execute_result",
          "data": {
            "text/plain": [
              "0      1\n",
              "1      2\n",
              "2      3\n",
              "3      4\n",
              "4      5\n",
              "5      6\n",
              "6      7\n",
              "7      8\n",
              "8      9\n",
              "9     10\n",
              "10    11\n",
              "Name: code, dtype: int64"
            ]
          },
          "metadata": {
            "tags": []
          },
          "execution_count": 59
        }
      ]
    },
    {
      "cell_type": "code",
      "metadata": {
        "id": "LrkBIMNo7c9F",
        "colab_type": "code",
        "colab": {}
      },
      "source": [
        "# Create an empty DataFrame\n",
        "pc_filled = temp.copy(deep=True)\n",
        "# Now extract each code's corresponding name\n",
        "for idx, value in project_codes.items():\n",
        "    # Create dummy variable to extract a name\n",
        "    dummy = temp[temp.code == str(value)].drop_duplicates()\n",
        "    # Set the indexing condition\n",
        "    cond = (temp.name == '') & (temp.code == str(value))\n",
        "    # Assign Values\n",
        "    pc_filled.loc[cond,'name'] = dummy[dummy.name!=''].name.values"
      ],
      "execution_count": 0,
      "outputs": []
    },
    {
      "cell_type": "code",
      "metadata": {
        "id": "SdVHTjSfAVme",
        "colab_type": "code",
        "colab": {
          "base_uri": "https://localhost:8080/",
          "height": 363
        },
        "outputId": "57d8661a-5f77-4cf8-be40-ccc4ef3c8761"
      },
      "source": [
        "# Count values and assign it to the new df\n",
        "df_new = pc_filled.name.value_counts().to_frame()\n",
        "df_new.reset_index(inplace=True)\n",
        "# Column Assignment\n",
        "df_new.columns = ['Project_Name','Project_Counts']\n",
        "# Print top 10\n",
        "df_new.head(10)"
      ],
      "execution_count": 61,
      "outputs": [
        {
          "output_type": "execute_result",
          "data": {
            "text/html": [
              "<div>\n",
              "<style scoped>\n",
              "    .dataframe tbody tr th:only-of-type {\n",
              "        vertical-align: middle;\n",
              "    }\n",
              "\n",
              "    .dataframe tbody tr th {\n",
              "        vertical-align: top;\n",
              "    }\n",
              "\n",
              "    .dataframe thead th {\n",
              "        text-align: right;\n",
              "    }\n",
              "</style>\n",
              "<table border=\"1\" class=\"dataframe\">\n",
              "  <thead>\n",
              "    <tr style=\"text-align: right;\">\n",
              "      <th></th>\n",
              "      <th>Project_Name</th>\n",
              "      <th>Project_Counts</th>\n",
              "    </tr>\n",
              "  </thead>\n",
              "  <tbody>\n",
              "    <tr>\n",
              "      <th>0</th>\n",
              "      <td>Environment and natural resources management</td>\n",
              "      <td>250</td>\n",
              "    </tr>\n",
              "    <tr>\n",
              "      <th>1</th>\n",
              "      <td>Rural development</td>\n",
              "      <td>216</td>\n",
              "    </tr>\n",
              "    <tr>\n",
              "      <th>2</th>\n",
              "      <td>Human development</td>\n",
              "      <td>210</td>\n",
              "    </tr>\n",
              "    <tr>\n",
              "      <th>3</th>\n",
              "      <td>Public sector governance</td>\n",
              "      <td>199</td>\n",
              "    </tr>\n",
              "    <tr>\n",
              "      <th>4</th>\n",
              "      <td>Social protection and risk management</td>\n",
              "      <td>168</td>\n",
              "    </tr>\n",
              "    <tr>\n",
              "      <th>5</th>\n",
              "      <td>Financial and private sector development</td>\n",
              "      <td>146</td>\n",
              "    </tr>\n",
              "    <tr>\n",
              "      <th>6</th>\n",
              "      <td>Social dev/gender/inclusion</td>\n",
              "      <td>130</td>\n",
              "    </tr>\n",
              "    <tr>\n",
              "      <th>7</th>\n",
              "      <td>Trade and integration</td>\n",
              "      <td>77</td>\n",
              "    </tr>\n",
              "    <tr>\n",
              "      <th>8</th>\n",
              "      <td>Urban development</td>\n",
              "      <td>50</td>\n",
              "    </tr>\n",
              "    <tr>\n",
              "      <th>9</th>\n",
              "      <td>Economic management</td>\n",
              "      <td>38</td>\n",
              "    </tr>\n",
              "  </tbody>\n",
              "</table>\n",
              "</div>"
            ],
            "text/plain": [
              "                                   Project_Name  Project_Counts\n",
              "0  Environment and natural resources management             250\n",
              "1                             Rural development             216\n",
              "2                             Human development             210\n",
              "3                      Public sector governance             199\n",
              "4         Social protection and risk management             168\n",
              "5      Financial and private sector development             146\n",
              "6                   Social dev/gender/inclusion             130\n",
              "7                         Trade and integration              77\n",
              "8                             Urban development              50\n",
              "9                           Economic management              38"
            ]
          },
          "metadata": {
            "tags": []
          },
          "execution_count": 61
        }
      ]
    }
  ]
}