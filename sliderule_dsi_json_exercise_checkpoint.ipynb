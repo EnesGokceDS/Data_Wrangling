{
  "nbformat": 4,
  "nbformat_minor": 0,
  "metadata": {
    "kernelspec": {
      "display_name": "Python 2",
      "language": "python",
      "name": "python2"
    },
    "language_info": {
      "codemirror_mode": {
        "name": "ipython",
        "version": 2
      },
      "file_extension": ".py",
      "mimetype": "text/x-python",
      "name": "python",
      "nbconvert_exporter": "python",
      "pygments_lexer": "ipython2",
      "version": "2.7.9"
    },
    "colab": {
      "name": "sliderule_dsi_json_exercise-checkpoint.ipynb",
      "version": "0.3.2",
      "provenance": [],
      "include_colab_link": true
    }
  },
  "cells": [
    {
      "cell_type": "markdown",
      "metadata": {
        "id": "view-in-github",
        "colab_type": "text"
      },
      "source": [
        "<a href=\"https://colab.research.google.com/github/Raizel820/Data_Wrangling/blob/master/sliderule_dsi_json_exercise_checkpoint.ipynb\" target=\"_parent\"><img src=\"https://colab.research.google.com/assets/colab-badge.svg\" alt=\"Open In Colab\"/></a>"
      ]
    },
    {
      "cell_type": "markdown",
      "metadata": {
        "id": "Xm5U9YA7jozW",
        "colab_type": "text"
      },
      "source": [
        "# JSON examples and exercise\n",
        "****\n",
        "+ get familiar with packages for dealing with JSON\n",
        "+ study examples with JSON strings and files \n",
        "+ work on exercise to be completed and submitted \n",
        "****\n",
        "+ reference: http://pandas-docs.github.io/pandas-docs-travis/io.html#json\n",
        "+ data source: http://jsonstudio.com/resources/\n",
        "****"
      ]
    },
    {
      "cell_type": "code",
      "metadata": {
        "id": "N4QXKp5gjozb",
        "colab_type": "code",
        "colab": {}
      },
      "source": [
        "import pandas as pd"
      ],
      "execution_count": 0,
      "outputs": []
    },
    {
      "cell_type": "markdown",
      "metadata": {
        "id": "hATNfwaGjozl",
        "colab_type": "text"
      },
      "source": [
        "## imports for Python, Pandas"
      ]
    },
    {
      "cell_type": "code",
      "metadata": {
        "id": "--6JEaPpjozm",
        "colab_type": "code",
        "colab": {}
      },
      "source": [
        "import json\n",
        "from pandas.io.json import json_normalize"
      ],
      "execution_count": 0,
      "outputs": []
    },
    {
      "cell_type": "markdown",
      "metadata": {
        "id": "UudLcT-2jozt",
        "colab_type": "text"
      },
      "source": [
        "## JSON example, with string\n",
        "\n",
        "+ demonstrates creation of normalized dataframes (tables) from nested json string\n",
        "+ source: http://pandas-docs.github.io/pandas-docs-travis/io.html#normalization"
      ]
    },
    {
      "cell_type": "code",
      "metadata": {
        "id": "iCBICKrujozv",
        "colab_type": "code",
        "colab": {}
      },
      "source": [
        "# define json string\n",
        "data = [{'state': 'Florida', \n",
        "         'shortname': 'FL',\n",
        "         'info': {'governor': 'Rick Scott'},\n",
        "         'counties': [{'name': 'Dade', 'population': 12345},\n",
        "                      {'name': 'Broward', 'population': 40000},\n",
        "                      {'name': 'Palm Beach', 'population': 60000}]},\n",
        "        {'state': 'Ohio',\n",
        "         'shortname': 'OH',\n",
        "         'info': {'governor': 'John Kasich'},\n",
        "         'counties': [{'name': 'Summit', 'population': 1234},\n",
        "                      {'name': 'Cuyahoga', 'population': 1337}]}]"
      ],
      "execution_count": 0,
      "outputs": []
    },
    {
      "cell_type": "code",
      "metadata": {
        "id": "877AWFhNjoz0",
        "colab_type": "code",
        "outputId": "3c6182dd-b69d-4125-ab7b-2773321f05cf",
        "colab": {
          "base_uri": "https://localhost:8080/",
          "height": 206
        }
      },
      "source": [
        "# use normalization to create tables from nested element\n",
        "json_normalize(data, 'counties')"
      ],
      "execution_count": 0,
      "outputs": [
        {
          "output_type": "execute_result",
          "data": {
            "text/html": [
              "<div>\n",
              "<style scoped>\n",
              "    .dataframe tbody tr th:only-of-type {\n",
              "        vertical-align: middle;\n",
              "    }\n",
              "\n",
              "    .dataframe tbody tr th {\n",
              "        vertical-align: top;\n",
              "    }\n",
              "\n",
              "    .dataframe thead th {\n",
              "        text-align: right;\n",
              "    }\n",
              "</style>\n",
              "<table border=\"1\" class=\"dataframe\">\n",
              "  <thead>\n",
              "    <tr style=\"text-align: right;\">\n",
              "      <th></th>\n",
              "      <th>name</th>\n",
              "      <th>population</th>\n",
              "    </tr>\n",
              "  </thead>\n",
              "  <tbody>\n",
              "    <tr>\n",
              "      <th>0</th>\n",
              "      <td>Dade</td>\n",
              "      <td>12345</td>\n",
              "    </tr>\n",
              "    <tr>\n",
              "      <th>1</th>\n",
              "      <td>Broward</td>\n",
              "      <td>40000</td>\n",
              "    </tr>\n",
              "    <tr>\n",
              "      <th>2</th>\n",
              "      <td>Palm Beach</td>\n",
              "      <td>60000</td>\n",
              "    </tr>\n",
              "    <tr>\n",
              "      <th>3</th>\n",
              "      <td>Summit</td>\n",
              "      <td>1234</td>\n",
              "    </tr>\n",
              "    <tr>\n",
              "      <th>4</th>\n",
              "      <td>Cuyahoga</td>\n",
              "      <td>1337</td>\n",
              "    </tr>\n",
              "  </tbody>\n",
              "</table>\n",
              "</div>"
            ],
            "text/plain": [
              "         name  population\n",
              "0        Dade       12345\n",
              "1     Broward       40000\n",
              "2  Palm Beach       60000\n",
              "3      Summit        1234\n",
              "4    Cuyahoga        1337"
            ]
          },
          "metadata": {
            "tags": []
          },
          "execution_count": 3
        }
      ]
    },
    {
      "cell_type": "code",
      "metadata": {
        "id": "xDXOEwTAjoz8",
        "colab_type": "code",
        "outputId": "c2e56e31-a03c-4352-f6c0-6f9b2a4c52b1",
        "colab": {
          "base_uri": "https://localhost:8080/",
          "height": 206
        }
      },
      "source": [
        "# further populate tables created from nested element\n",
        "json_normalize(data, 'counties', ['state', 'shortname', ['info', 'governor']])"
      ],
      "execution_count": 0,
      "outputs": [
        {
          "output_type": "execute_result",
          "data": {
            "text/html": [
              "<div>\n",
              "<style scoped>\n",
              "    .dataframe tbody tr th:only-of-type {\n",
              "        vertical-align: middle;\n",
              "    }\n",
              "\n",
              "    .dataframe tbody tr th {\n",
              "        vertical-align: top;\n",
              "    }\n",
              "\n",
              "    .dataframe thead th {\n",
              "        text-align: right;\n",
              "    }\n",
              "</style>\n",
              "<table border=\"1\" class=\"dataframe\">\n",
              "  <thead>\n",
              "    <tr style=\"text-align: right;\">\n",
              "      <th></th>\n",
              "      <th>name</th>\n",
              "      <th>population</th>\n",
              "      <th>info.governor</th>\n",
              "      <th>state</th>\n",
              "      <th>shortname</th>\n",
              "    </tr>\n",
              "  </thead>\n",
              "  <tbody>\n",
              "    <tr>\n",
              "      <th>0</th>\n",
              "      <td>Dade</td>\n",
              "      <td>12345</td>\n",
              "      <td>Rick Scott</td>\n",
              "      <td>Florida</td>\n",
              "      <td>FL</td>\n",
              "    </tr>\n",
              "    <tr>\n",
              "      <th>1</th>\n",
              "      <td>Broward</td>\n",
              "      <td>40000</td>\n",
              "      <td>Rick Scott</td>\n",
              "      <td>Florida</td>\n",
              "      <td>FL</td>\n",
              "    </tr>\n",
              "    <tr>\n",
              "      <th>2</th>\n",
              "      <td>Palm Beach</td>\n",
              "      <td>60000</td>\n",
              "      <td>Rick Scott</td>\n",
              "      <td>Florida</td>\n",
              "      <td>FL</td>\n",
              "    </tr>\n",
              "    <tr>\n",
              "      <th>3</th>\n",
              "      <td>Summit</td>\n",
              "      <td>1234</td>\n",
              "      <td>John Kasich</td>\n",
              "      <td>Ohio</td>\n",
              "      <td>OH</td>\n",
              "    </tr>\n",
              "    <tr>\n",
              "      <th>4</th>\n",
              "      <td>Cuyahoga</td>\n",
              "      <td>1337</td>\n",
              "      <td>John Kasich</td>\n",
              "      <td>Ohio</td>\n",
              "      <td>OH</td>\n",
              "    </tr>\n",
              "  </tbody>\n",
              "</table>\n",
              "</div>"
            ],
            "text/plain": [
              "         name  population info.governor    state shortname\n",
              "0        Dade       12345    Rick Scott  Florida        FL\n",
              "1     Broward       40000    Rick Scott  Florida        FL\n",
              "2  Palm Beach       60000    Rick Scott  Florida        FL\n",
              "3      Summit        1234   John Kasich     Ohio        OH\n",
              "4    Cuyahoga        1337   John Kasich     Ohio        OH"
            ]
          },
          "metadata": {
            "tags": []
          },
          "execution_count": 4
        }
      ]
    },
    {
      "cell_type": "markdown",
      "metadata": {
        "id": "1qj5D1Ccjo0B",
        "colab_type": "text"
      },
      "source": [
        "****\n",
        "## JSON example, with file\n",
        "\n",
        "+ demonstrates reading in a json file as a string and as a table\n",
        "+ uses small sample file containing data about projects funded by the World Bank \n",
        "+ data source: http://jsonstudio.com/resources/"
      ]
    },
    {
      "cell_type": "code",
      "metadata": {
        "id": "xOELS0R8lXby",
        "colab_type": "code",
        "colab": {}
      },
      "source": [
        "import urllib, json\n",
        "\n",
        "url = \"https://raw.githubusercontent.com/Raizel820/Data_Wrangling/master/data/world_bank_projects_less.json\"\n",
        "response = urllib.urlopen(url)\n",
        "data = json.loads(response.read())\n"
      ],
      "execution_count": 0,
      "outputs": []
    },
    {
      "cell_type": "code",
      "metadata": {
        "id": "9rIutY1ll_5n",
        "colab_type": "code",
        "colab": {}
      },
      "source": [
        "sample_json_df = pd.read_json(url)\n",
        "sample_json_df\n",
        "df=sample_json_df"
      ],
      "execution_count": 0,
      "outputs": []
    },
    {
      "cell_type": "code",
      "metadata": {
        "id": "au4FwQ-8nIXu",
        "colab_type": "code",
        "colab": {}
      },
      "source": [
        "sample_json_df.info()"
      ],
      "execution_count": 0,
      "outputs": []
    },
    {
      "cell_type": "code",
      "metadata": {
        "id": "iCi7ZaDFnjc2",
        "colab_type": "code",
        "outputId": "5bbd85b5-3373-45b0-cef4-4eaf23cc2d83",
        "colab": {
          "base_uri": "https://localhost:8080/",
          "height": 36
        }
      },
      "source": [
        "df.shape"
      ],
      "execution_count": 0,
      "outputs": [
        {
          "output_type": "execute_result",
          "data": {
            "text/plain": [
              "(2, 50)"
            ]
          },
          "metadata": {
            "tags": []
          },
          "execution_count": 23
        }
      ]
    },
    {
      "cell_type": "markdown",
      "metadata": {
        "id": "eb8zUhF6jo0Q",
        "colab_type": "text"
      },
      "source": [
        "****\n",
        "## JSON exercise\n",
        "\n",
        "Using data in file 'data/world_bank_projects.json' and the techniques demonstrated above,\n",
        "1. Find the 10 countries with most projects\n",
        "2. Find the top 10 major project themes (using column 'mjtheme_namecode')\n",
        "3. In 2. above you will notice that some entries have only the code and the name is missing. Create a dataframe with the missing names filled in."
      ]
    },
    {
      "cell_type": "code",
      "metadata": {
        "id": "6jJ4xn9wjo0S",
        "colab_type": "code",
        "outputId": "45714722-1324-485c-bd53-12952466407b",
        "colab": {
          "base_uri": "https://localhost:8080/",
          "height": 573
        }
      },
      "source": [
        "import urllib, json\n",
        "\n",
        "url = \"https://raw.githubusercontent.com/Raizel820/Data_Wrangling/master/data/world_bank_projects.json\"\n",
        "df = pd.read_json(url)\n",
        "df.sample(5)"
      ],
      "execution_count": 6,
      "outputs": [
        {
          "output_type": "execute_result",
          "data": {
            "text/html": [
              "<div>\n",
              "<style scoped>\n",
              "    .dataframe tbody tr th:only-of-type {\n",
              "        vertical-align: middle;\n",
              "    }\n",
              "\n",
              "    .dataframe tbody tr th {\n",
              "        vertical-align: top;\n",
              "    }\n",
              "\n",
              "    .dataframe thead th {\n",
              "        text-align: right;\n",
              "    }\n",
              "</style>\n",
              "<table border=\"1\" class=\"dataframe\">\n",
              "  <thead>\n",
              "    <tr style=\"text-align: right;\">\n",
              "      <th></th>\n",
              "      <th>_id</th>\n",
              "      <th>approvalfy</th>\n",
              "      <th>board_approval_month</th>\n",
              "      <th>boardapprovaldate</th>\n",
              "      <th>borrower</th>\n",
              "      <th>closingdate</th>\n",
              "      <th>country_namecode</th>\n",
              "      <th>countrycode</th>\n",
              "      <th>countryname</th>\n",
              "      <th>countryshortname</th>\n",
              "      <th>docty</th>\n",
              "      <th>envassesmentcategorycode</th>\n",
              "      <th>grantamt</th>\n",
              "      <th>ibrdcommamt</th>\n",
              "      <th>id</th>\n",
              "      <th>idacommamt</th>\n",
              "      <th>impagency</th>\n",
              "      <th>lendinginstr</th>\n",
              "      <th>lendinginstrtype</th>\n",
              "      <th>lendprojectcost</th>\n",
              "      <th>majorsector_percent</th>\n",
              "      <th>mjsector_namecode</th>\n",
              "      <th>mjtheme</th>\n",
              "      <th>mjtheme_namecode</th>\n",
              "      <th>mjthemecode</th>\n",
              "      <th>prodline</th>\n",
              "      <th>prodlinetext</th>\n",
              "      <th>productlinetype</th>\n",
              "      <th>project_abstract</th>\n",
              "      <th>project_name</th>\n",
              "      <th>projectdocs</th>\n",
              "      <th>projectfinancialtype</th>\n",
              "      <th>projectstatusdisplay</th>\n",
              "      <th>regionname</th>\n",
              "      <th>sector</th>\n",
              "      <th>sector1</th>\n",
              "      <th>sector2</th>\n",
              "      <th>sector3</th>\n",
              "      <th>sector4</th>\n",
              "      <th>sector_namecode</th>\n",
              "      <th>sectorcode</th>\n",
              "      <th>source</th>\n",
              "      <th>status</th>\n",
              "      <th>supplementprojectflg</th>\n",
              "      <th>theme1</th>\n",
              "      <th>theme_namecode</th>\n",
              "      <th>themecode</th>\n",
              "      <th>totalamt</th>\n",
              "      <th>totalcommamt</th>\n",
              "      <th>url</th>\n",
              "    </tr>\n",
              "  </thead>\n",
              "  <tbody>\n",
              "    <tr>\n",
              "      <th>454</th>\n",
              "      <td>{u'$oid': u'52b213b38594d8a2be17c946'}</td>\n",
              "      <td>2013</td>\n",
              "      <td>September</td>\n",
              "      <td>2012-09-27T00:00:00Z</td>\n",
              "      <td>REPUBLIC OF URUGUAY</td>\n",
              "      <td>2017-05-31T00:00:00Z</td>\n",
              "      <td>Oriental Republic of Uruguay!$!UY</td>\n",
              "      <td>UY</td>\n",
              "      <td>Oriental Republic of Uruguay</td>\n",
              "      <td>Uruguay</td>\n",
              "      <td>Implementation Status and Results Report,Imple...</td>\n",
              "      <td>B</td>\n",
              "      <td>0</td>\n",
              "      <td>40000000</td>\n",
              "      <td>P126408</td>\n",
              "      <td>0</td>\n",
              "      <td>MINISTRY OF EDUCATION</td>\n",
              "      <td>Specific Investment Loan</td>\n",
              "      <td>IN</td>\n",
              "      <td>73800000</td>\n",
              "      <td>[{u'Percent': 80, u'Name': u'Education'}, {u'P...</td>\n",
              "      <td>[{u'code': u'EX', u'name': u'Education'}, {u'c...</td>\n",
              "      <td>[Human development]</td>\n",
              "      <td>[{u'code': u'8', u'name': u'Human development'...</td>\n",
              "      <td>8,11</td>\n",
              "      <td>PE</td>\n",
              "      <td>IBRD/IDA</td>\n",
              "      <td>L</td>\n",
              "      <td>{u'cdata': u'The objective of the Support to U...</td>\n",
              "      <td>Support to Uruguayan Public Schools Project</td>\n",
              "      <td>[{u'DocDate': u'29-OCT-2013', u'EntityID': u'0...</td>\n",
              "      <td>IBRD</td>\n",
              "      <td>Active</td>\n",
              "      <td>Latin America and Caribbean</td>\n",
              "      <td>[{u'Name': u'Primary education'}, {u'Name': u'...</td>\n",
              "      <td>{u'Percent': 80, u'Name': u'Primary education'}</td>\n",
              "      <td>{u'Percent': 10, u'Name': u'Pre-primary educat...</td>\n",
              "      <td>{u'Percent': 10, u'Name': u'Public administrat...</td>\n",
              "      <td>NaN</td>\n",
              "      <td>[{u'code': u'EP', u'name': u'Primary education...</td>\n",
              "      <td>BN,EC,EP</td>\n",
              "      <td>IBRD</td>\n",
              "      <td>Active</td>\n",
              "      <td>N</td>\n",
              "      <td>{u'Percent': 100, u'Name': u'Education for all'}</td>\n",
              "      <td>[{u'code': u'65', u'name': u'Education for all'}]</td>\n",
              "      <td>65</td>\n",
              "      <td>40000000</td>\n",
              "      <td>40000000</td>\n",
              "      <td>http://www.worldbank.org/projects/P126408/full...</td>\n",
              "    </tr>\n",
              "    <tr>\n",
              "      <th>395</th>\n",
              "      <td>{u'$oid': u'52b213b38594d8a2be17c90b'}</td>\n",
              "      <td>2013</td>\n",
              "      <td>November</td>\n",
              "      <td>2012-11-20T00:00:00Z</td>\n",
              "      <td>REPUBLIC OF INDONESIA</td>\n",
              "      <td>2013-04-30T00:00:00Z</td>\n",
              "      <td>Republic of Indonesia!$!ID</td>\n",
              "      <td>ID</td>\n",
              "      <td>Republic of Indonesia</td>\n",
              "      <td>Indonesia</td>\n",
              "      <td>Program Document,Summary of Discussion</td>\n",
              "      <td>NaN</td>\n",
              "      <td>0</td>\n",
              "      <td>100000000</td>\n",
              "      <td>P124006</td>\n",
              "      <td>0</td>\n",
              "      <td>COORDINATING MINISTRY FOR ECONOMIC AFFAIRS</td>\n",
              "      <td>Development Policy Lending</td>\n",
              "      <td>AD</td>\n",
              "      <td>100000000</td>\n",
              "      <td>[{u'Percent': 44, u'Name': u'Transportation'},...</td>\n",
              "      <td>[{u'code': u'TX', u'name': u'Transportation'},...</td>\n",
              "      <td>[Financial and private sector development, Tra...</td>\n",
              "      <td>[{u'code': u'4', u'name': u'Financial and priv...</td>\n",
              "      <td>4,5,5,10</td>\n",
              "      <td>PE</td>\n",
              "      <td>IBRD/IDA</td>\n",
              "      <td>L</td>\n",
              "      <td>{u'cdata': u'The overall goal of the Connectiv...</td>\n",
              "      <td>First Connectivity Development Policy Loan</td>\n",
              "      <td>[{u'DocDate': u'06-DEC-2012', u'EntityID': u'0...</td>\n",
              "      <td>IBRD</td>\n",
              "      <td>Closed</td>\n",
              "      <td>East Asia and Pacific</td>\n",
              "      <td>[{u'Name': u'General transportation sector'}, ...</td>\n",
              "      <td>{u'Percent': 44, u'Name': u'General transporta...</td>\n",
              "      <td>{u'Percent': 31, u'Name': u'Telecommunications'}</td>\n",
              "      <td>{u'Percent': 9, u'Name': u'Health'}</td>\n",
              "      <td>{u'Percent': 8, u'Name': u'General water, sani...</td>\n",
              "      <td>[{u'code': u'TZ', u'name': u'General transport...</td>\n",
              "      <td>LZ,WZ,JA,CT,TZ</td>\n",
              "      <td>IBRD</td>\n",
              "      <td>Closed</td>\n",
              "      <td>N</td>\n",
              "      <td>{u'Percent': 43, u'Name': u'Infrastructure ser...</td>\n",
              "      <td>[{u'code': u'39', u'name': u'Infrastructure se...</td>\n",
              "      <td>78,47,49,39</td>\n",
              "      <td>100000000</td>\n",
              "      <td>100000000</td>\n",
              "      <td>http://www.worldbank.org/projects/P124006/firs...</td>\n",
              "    </tr>\n",
              "    <tr>\n",
              "      <th>378</th>\n",
              "      <td>{u'$oid': u'52b213b38594d8a2be17c8fa'}</td>\n",
              "      <td>2013</td>\n",
              "      <td>December</td>\n",
              "      <td>2012-12-11T00:00:00Z</td>\n",
              "      <td>MINISTRY OF FINANCE AND ECONOMIC AFFAIRS</td>\n",
              "      <td>2014-12-31T00:00:00Z</td>\n",
              "      <td>Republic of The Gambia!$!GM</td>\n",
              "      <td>GM</td>\n",
              "      <td>Republic of The Gambia</td>\n",
              "      <td>Gambia, The</td>\n",
              "      <td>Implementation Status and Results Report</td>\n",
              "      <td>B</td>\n",
              "      <td>2850000</td>\n",
              "      <td>0</td>\n",
              "      <td>P143329</td>\n",
              "      <td>0</td>\n",
              "      <td>MINISTRY OF AGRICULTURE-WEST AFRICA AGRIC. PRO...</td>\n",
              "      <td>Specific Investment Loan</td>\n",
              "      <td>IN</td>\n",
              "      <td>2850000</td>\n",
              "      <td>[{u'Percent': 85, u'Name': u'Agriculture, fish...</td>\n",
              "      <td>[{u'code': u'AX', u'name': u'Agriculture, fish...</td>\n",
              "      <td>[Rural development]</td>\n",
              "      <td>[{u'code': u'10', u'name': u'Rural development...</td>\n",
              "      <td>10,7</td>\n",
              "      <td>RE</td>\n",
              "      <td>Recipient Executed Activities</td>\n",
              "      <td>L</td>\n",
              "      <td>NaN</td>\n",
              "      <td>The Gambia Emergency Agricultural Production S...</td>\n",
              "      <td>[{u'DocDate': u'27-OCT-2013', u'EntityID': u'0...</td>\n",
              "      <td>OTHER</td>\n",
              "      <td>Active</td>\n",
              "      <td>Africa</td>\n",
              "      <td>[{u'Name': u'Crops'}, {u'Name': u'Animal produ...</td>\n",
              "      <td>{u'Percent': 85, u'Name': u'Crops'}</td>\n",
              "      <td>{u'Percent': 15, u'Name': u'Animal production'}</td>\n",
              "      <td>NaN</td>\n",
              "      <td>NaN</td>\n",
              "      <td>[{u'code': u'AH', u'name': u'Crops'}, {u'code'...</td>\n",
              "      <td>AJ,AH</td>\n",
              "      <td>IBRD</td>\n",
              "      <td>Active</td>\n",
              "      <td>N</td>\n",
              "      <td>{u'Percent': 100, u'Name': u'Global food crisi...</td>\n",
              "      <td>[{u'code': u'91', u'name': u'Global food crisi...</td>\n",
              "      <td>91</td>\n",
              "      <td>0</td>\n",
              "      <td>2850000</td>\n",
              "      <td>http://www.worldbank.org/projects/P143329?lang=en</td>\n",
              "    </tr>\n",
              "    <tr>\n",
              "      <th>2</th>\n",
              "      <td>{u'$oid': u'52b213b38594d8a2be17c782'}</td>\n",
              "      <td>2014</td>\n",
              "      <td>November</td>\n",
              "      <td>2013-11-01T00:00:00Z</td>\n",
              "      <td>MINISTRY OF FINANCE AND ECONOMIC DEVEL</td>\n",
              "      <td>NaN</td>\n",
              "      <td>Tuvalu!$!TV</td>\n",
              "      <td>TV</td>\n",
              "      <td>Tuvalu</td>\n",
              "      <td>Tuvalu</td>\n",
              "      <td>Resettlement Plan,Environmental Assessment,Int...</td>\n",
              "      <td>B</td>\n",
              "      <td>0</td>\n",
              "      <td>0</td>\n",
              "      <td>P145310</td>\n",
              "      <td>6060000</td>\n",
              "      <td>MINISTRY OF TRANSPORT AND COMMUNICATIONS</td>\n",
              "      <td>Investment Project Financing</td>\n",
              "      <td>IN</td>\n",
              "      <td>6060000</td>\n",
              "      <td>[{u'Percent': 100, u'Name': u'Transportation'}]</td>\n",
              "      <td>[{u'code': u'TX', u'name': u'Transportation'}]</td>\n",
              "      <td>[Trade and integration, Public sector governan...</td>\n",
              "      <td>[{u'code': u'5', u'name': u'Trade and integrat...</td>\n",
              "      <td>5,2,11,6</td>\n",
              "      <td>PE</td>\n",
              "      <td>IBRD/IDA</td>\n",
              "      <td>L</td>\n",
              "      <td>NaN</td>\n",
              "      <td>Tuvalu Aviation Investment Project - Additiona...</td>\n",
              "      <td>[{u'DocDate': u'21-OCT-2013', u'EntityID': u'0...</td>\n",
              "      <td>IDA</td>\n",
              "      <td>Active</td>\n",
              "      <td>East Asia and Pacific</td>\n",
              "      <td>[{u'Name': u'Rural and Inter-Urban Roads and H...</td>\n",
              "      <td>{u'Percent': 100, u'Name': u'Rural and Inter-U...</td>\n",
              "      <td>NaN</td>\n",
              "      <td>NaN</td>\n",
              "      <td>NaN</td>\n",
              "      <td>[{u'code': u'TI', u'name': u'Rural and Inter-U...</td>\n",
              "      <td>TI</td>\n",
              "      <td>IBRD</td>\n",
              "      <td>Active</td>\n",
              "      <td>Y</td>\n",
              "      <td>{u'Percent': 46, u'Name': u'Regional integrati...</td>\n",
              "      <td>[{u'code': u'47', u'name': u'Regional integrat...</td>\n",
              "      <td>52,81,25,47</td>\n",
              "      <td>6060000</td>\n",
              "      <td>6060000</td>\n",
              "      <td>http://www.worldbank.org/projects/P145310?lang=en</td>\n",
              "    </tr>\n",
              "    <tr>\n",
              "      <th>322</th>\n",
              "      <td>{u'$oid': u'52b213b38594d8a2be17c8c2'}</td>\n",
              "      <td>2013</td>\n",
              "      <td>February</td>\n",
              "      <td>2013-02-08T00:00:00Z</td>\n",
              "      <td>PALESTINIAN AUTHORITY</td>\n",
              "      <td>NaN</td>\n",
              "      <td>Middle East and North Africa!$!5M</td>\n",
              "      <td>5M</td>\n",
              "      <td>Middle East and North Africa</td>\n",
              "      <td>Middle East and North Africa</td>\n",
              "      <td>NaN</td>\n",
              "      <td>C</td>\n",
              "      <td>8000000</td>\n",
              "      <td>0</td>\n",
              "      <td>P132268</td>\n",
              "      <td>0</td>\n",
              "      <td>SOUTHERN WEST BANK JSC FOR SWM</td>\n",
              "      <td>Technical Assistance Loan</td>\n",
              "      <td>IN</td>\n",
              "      <td>8000000</td>\n",
              "      <td>[{u'Percent': 80, u'Name': u'Water, sanitation...</td>\n",
              "      <td>[{u'code': u'WX', u'name': u'Water, sanitation...</td>\n",
              "      <td>[Environment and natural resources management,...</td>\n",
              "      <td>[{u'code': u'11', u'name': u'Environment and n...</td>\n",
              "      <td>11,4,9</td>\n",
              "      <td>RE</td>\n",
              "      <td>Recipient Executed Activities</td>\n",
              "      <td>L</td>\n",
              "      <td>NaN</td>\n",
              "      <td>Solid Waste Management OBA Pilot in West Bank</td>\n",
              "      <td>NaN</td>\n",
              "      <td>OTHER</td>\n",
              "      <td>Active</td>\n",
              "      <td>Middle East and North Africa</td>\n",
              "      <td>[{u'Name': u'Solid waste management'}, {u'Name...</td>\n",
              "      <td>{u'Percent': 80, u'Name': u'Solid waste manage...</td>\n",
              "      <td>{u'Percent': 20, u'Name': u'Sub-national gover...</td>\n",
              "      <td>NaN</td>\n",
              "      <td>NaN</td>\n",
              "      <td>[{u'code': u'WB', u'name': u'Solid waste manag...</td>\n",
              "      <td>BH,WB</td>\n",
              "      <td>IBRD</td>\n",
              "      <td>Active</td>\n",
              "      <td>Y</td>\n",
              "      <td>{u'Percent': 25, u'Name': u'Pollution manageme...</td>\n",
              "      <td>[{u'code': u'84', u'name': u'Pollution managem...</td>\n",
              "      <td>71,39,84</td>\n",
              "      <td>0</td>\n",
              "      <td>8000000</td>\n",
              "      <td>http://www.worldbank.org/projects/P132268/soli...</td>\n",
              "    </tr>\n",
              "  </tbody>\n",
              "</table>\n",
              "</div>"
            ],
            "text/plain": [
              "                                        _id  ...                                                url\n",
              "454  {u'$oid': u'52b213b38594d8a2be17c946'}  ...  http://www.worldbank.org/projects/P126408/full...\n",
              "395  {u'$oid': u'52b213b38594d8a2be17c90b'}  ...  http://www.worldbank.org/projects/P124006/firs...\n",
              "378  {u'$oid': u'52b213b38594d8a2be17c8fa'}  ...  http://www.worldbank.org/projects/P143329?lang=en\n",
              "2    {u'$oid': u'52b213b38594d8a2be17c782'}  ...  http://www.worldbank.org/projects/P145310?lang=en\n",
              "322  {u'$oid': u'52b213b38594d8a2be17c8c2'}  ...  http://www.worldbank.org/projects/P132268/soli...\n",
              "\n",
              "[5 rows x 50 columns]"
            ]
          },
          "metadata": {
            "tags": []
          },
          "execution_count": 6
        }
      ]
    },
    {
      "cell_type": "code",
      "metadata": {
        "id": "QSWfIK239lys",
        "colab_type": "code",
        "outputId": "588dc368-6db9-48e7-943d-2708d253d4c3",
        "colab": {
          "base_uri": "https://localhost:8080/",
          "height": 222
        }
      },
      "source": [
        "df.countryname.value_counts().head(10)"
      ],
      "execution_count": 11,
      "outputs": [
        {
          "output_type": "execute_result",
          "data": {
            "text/plain": [
              "People's Republic of China         19\n",
              "Republic of Indonesia              19\n",
              "Socialist Republic of Vietnam      17\n",
              "Republic of India                  16\n",
              "Republic of Yemen                  13\n",
              "Kingdom of Morocco                 12\n",
              "People's Republic of Bangladesh    12\n",
              "Nepal                              12\n",
              "Republic of Mozambique             11\n",
              "Africa                             11\n",
              "Name: countryname, dtype: int64"
            ]
          },
          "metadata": {
            "tags": []
          },
          "execution_count": 11
        }
      ]
    },
    {
      "cell_type": "code",
      "metadata": {
        "id": "iJd6kSSzzQuM",
        "colab_type": "code",
        "colab": {
          "base_uri": "https://localhost:8080/",
          "height": 222
        },
        "outputId": "53f690a4-9c70-45f5-b18a-26f17125c3d0"
      },
      "source": [
        "df['mjtheme'].value_counts().head(10)"
      ],
      "execution_count": 33,
      "outputs": [
        {
          "output_type": "execute_result",
          "data": {
            "text/plain": [
              "[Human development]                                                                             25\n",
              "[Environment and natural resources management]                                                  22\n",
              "[Public sector governance]                                                                      18\n",
              "[Rural development]                                                                             14\n",
              "[Environment and natural resources management, Environment and natural resources management]    12\n",
              "[Financial and private sector development]                                                      11\n",
              "[Social protection and risk management]                                                         10\n",
              "[Social dev/gender/inclusion]                                                                    8\n",
              "[Human development, Human development]                                                           8\n",
              "[Financial and private sector development, Financial and private sector development]             6\n",
              "Name: mjtheme, dtype: int64"
            ]
          },
          "metadata": {
            "tags": []
          },
          "execution_count": 33
        }
      ]
    },
    {
      "cell_type": "code",
      "metadata": {
        "id": "5WlGQuegOoZ2",
        "colab_type": "code",
        "colab": {}
      },
      "source": [
        "df2 = pd.DataFrame(df.mjtheme_namecode.fillna(method ='pad').value_counts().head(10))"
      ],
      "execution_count": 0,
      "outputs": []
    },
    {
      "cell_type": "code",
      "metadata": {
        "id": "1eB-kk0f2nw0",
        "colab_type": "code",
        "colab": {
          "base_uri": "https://localhost:8080/",
          "height": 380
        },
        "outputId": "247c8d96-3a97-49ca-cd5b-9e45afb6f93b"
      },
      "source": [
        "df2"
      ],
      "execution_count": 29,
      "outputs": [
        {
          "output_type": "execute_result",
          "data": {
            "text/html": [
              "<div>\n",
              "<style scoped>\n",
              "    .dataframe tbody tr th:only-of-type {\n",
              "        vertical-align: middle;\n",
              "    }\n",
              "\n",
              "    .dataframe tbody tr th {\n",
              "        vertical-align: top;\n",
              "    }\n",
              "\n",
              "    .dataframe thead th {\n",
              "        text-align: right;\n",
              "    }\n",
              "</style>\n",
              "<table border=\"1\" class=\"dataframe\">\n",
              "  <thead>\n",
              "    <tr style=\"text-align: right;\">\n",
              "      <th></th>\n",
              "      <th>mjtheme_namecode</th>\n",
              "    </tr>\n",
              "  </thead>\n",
              "  <tbody>\n",
              "    <tr>\n",
              "      <th>[{u'code': u'11', u'name': u'Environment and natural resources management'}, {u'code': u'11', u'name': u'Environment and natural resources management'}]</th>\n",
              "      <td>12</td>\n",
              "    </tr>\n",
              "    <tr>\n",
              "      <th>[{u'code': u'8', u'name': u'Human development'}, {u'code': u'11', u'name': u''}]</th>\n",
              "      <td>11</td>\n",
              "    </tr>\n",
              "    <tr>\n",
              "      <th>[{u'code': u'8', u'name': u'Human development'}, {u'code': u'8', u'name': u'Human development'}]</th>\n",
              "      <td>8</td>\n",
              "    </tr>\n",
              "    <tr>\n",
              "      <th>[{u'code': u'4', u'name': u'Financial and private sector development'}, {u'code': u'4', u'name': u'Financial and private sector development'}]</th>\n",
              "      <td>6</td>\n",
              "    </tr>\n",
              "    <tr>\n",
              "      <th>[{u'code': u'2', u'name': u'Public sector governance'}, {u'code': u'2', u'name': u'Public sector governance'}, {u'code': u'2', u'name': u'Public sector governance'}]</th>\n",
              "      <td>6</td>\n",
              "    </tr>\n",
              "    <tr>\n",
              "      <th>[{u'code': u'8', u'name': u'Human development'}, {u'code': u'7', u'name': u'Social dev/gender/inclusion'}]</th>\n",
              "      <td>5</td>\n",
              "    </tr>\n",
              "    <tr>\n",
              "      <th>[{u'code': u'8', u'name': u'Human development'}, {u'code': u'8', u'name': u'Human development'}, {u'code': u'8', u'name': u'Human development'}, {u'code': u'8', u'name': u'Human development'}, {u'code': u'8', u'name': u'Human development'}]</th>\n",
              "      <td>5</td>\n",
              "    </tr>\n",
              "    <tr>\n",
              "      <th>[{u'code': u'11', u'name': u'Environment and natural resources management'}, {u'code': u'11', u'name': u''}]</th>\n",
              "      <td>5</td>\n",
              "    </tr>\n",
              "    <tr>\n",
              "      <th>[{u'code': u'11', u'name': u'Environment and natural resources management'}, {u'code': u'4', u'name': u''}]</th>\n",
              "      <td>5</td>\n",
              "    </tr>\n",
              "    <tr>\n",
              "      <th>[{u'code': u'4', u'name': u'Financial and private sector development'}, {u'code': u'5', u'name': u'Trade and integration'}]</th>\n",
              "      <td>5</td>\n",
              "    </tr>\n",
              "  </tbody>\n",
              "</table>\n",
              "</div>"
            ],
            "text/plain": [
              "                                                    mjtheme_namecode\n",
              "[{u'code': u'11', u'name': u'Environment and na...                12\n",
              "[{u'code': u'8', u'name': u'Human development'}...                11\n",
              "[{u'code': u'8', u'name': u'Human development'}...                 8\n",
              "[{u'code': u'4', u'name': u'Financial and priva...                 6\n",
              "[{u'code': u'2', u'name': u'Public sector gover...                 6\n",
              "[{u'code': u'8', u'name': u'Human development'}...                 5\n",
              "[{u'code': u'8', u'name': u'Human development'}...                 5\n",
              "[{u'code': u'11', u'name': u'Environment and na...                 5\n",
              "[{u'code': u'11', u'name': u'Environment and na...                 5\n",
              "[{u'code': u'4', u'name': u'Financial and priva...                 5"
            ]
          },
          "metadata": {
            "tags": []
          },
          "execution_count": 29
        }
      ]
    },
    {
      "cell_type": "code",
      "metadata": {
        "id": "A9-ly-AKEiVq",
        "colab_type": "code",
        "colab": {
          "base_uri": "https://localhost:8080/",
          "height": 363
        },
        "outputId": "516974a2-d317-497c-ebbd-5a4938c2e4da"
      },
      "source": [
        "pd.DataFrame(df.mjtheme.fillna(method ='pad').value_counts().head(10))"
      ],
      "execution_count": 37,
      "outputs": [
        {
          "output_type": "execute_result",
          "data": {
            "text/html": [
              "<div>\n",
              "<style scoped>\n",
              "    .dataframe tbody tr th:only-of-type {\n",
              "        vertical-align: middle;\n",
              "    }\n",
              "\n",
              "    .dataframe tbody tr th {\n",
              "        vertical-align: top;\n",
              "    }\n",
              "\n",
              "    .dataframe thead th {\n",
              "        text-align: right;\n",
              "    }\n",
              "</style>\n",
              "<table border=\"1\" class=\"dataframe\">\n",
              "  <thead>\n",
              "    <tr style=\"text-align: right;\">\n",
              "      <th></th>\n",
              "      <th>mjtheme</th>\n",
              "    </tr>\n",
              "  </thead>\n",
              "  <tbody>\n",
              "    <tr>\n",
              "      <th>[Human development]</th>\n",
              "      <td>25</td>\n",
              "    </tr>\n",
              "    <tr>\n",
              "      <th>[Environment and natural resources management]</th>\n",
              "      <td>22</td>\n",
              "    </tr>\n",
              "    <tr>\n",
              "      <th>[Public sector governance]</th>\n",
              "      <td>19</td>\n",
              "    </tr>\n",
              "    <tr>\n",
              "      <th>[Financial and private sector development]</th>\n",
              "      <td>14</td>\n",
              "    </tr>\n",
              "    <tr>\n",
              "      <th>[Rural development]</th>\n",
              "      <td>14</td>\n",
              "    </tr>\n",
              "    <tr>\n",
              "      <th>[Environment and natural resources management, Environment and natural resources management]</th>\n",
              "      <td>12</td>\n",
              "    </tr>\n",
              "    <tr>\n",
              "      <th>[Social protection and risk management]</th>\n",
              "      <td>10</td>\n",
              "    </tr>\n",
              "    <tr>\n",
              "      <th>[Human development, Human development]</th>\n",
              "      <td>9</td>\n",
              "    </tr>\n",
              "    <tr>\n",
              "      <th>[Social dev/gender/inclusion]</th>\n",
              "      <td>8</td>\n",
              "    </tr>\n",
              "    <tr>\n",
              "      <th>[Financial and private sector development, Financial and private sector development]</th>\n",
              "      <td>6</td>\n",
              "    </tr>\n",
              "  </tbody>\n",
              "</table>\n",
              "</div>"
            ],
            "text/plain": [
              "                                                    mjtheme\n",
              "[Human development]                                      25\n",
              "[Environment and natural resources management]           22\n",
              "[Public sector governance]                               19\n",
              "[Financial and private sector development]               14\n",
              "[Rural development]                                      14\n",
              "[Environment and natural resources management, ...       12\n",
              "[Social protection and risk management]                  10\n",
              "[Human development, Human development]                    9\n",
              "[Social dev/gender/inclusion]                             8\n",
              "[Financial and private sector development, Fina...        6"
            ]
          },
          "metadata": {
            "tags": []
          },
          "execution_count": 37
        }
      ]
    }
  ]
}