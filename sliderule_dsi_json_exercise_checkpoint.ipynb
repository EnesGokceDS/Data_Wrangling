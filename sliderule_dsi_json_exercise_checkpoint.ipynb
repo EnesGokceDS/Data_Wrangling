{
  "nbformat": 4,
  "nbformat_minor": 0,
  "metadata": {
    "kernelspec": {
      "display_name": "Python 2",
      "language": "python",
      "name": "python2"
    },
    "language_info": {
      "codemirror_mode": {
        "name": "ipython",
        "version": 2
      },
      "file_extension": ".py",
      "mimetype": "text/x-python",
      "name": "python",
      "nbconvert_exporter": "python",
      "pygments_lexer": "ipython2",
      "version": "2.7.9"
    },
    "colab": {
      "name": "sliderule_dsi_json_exercise-checkpoint.ipynb",
      "version": "0.3.2",
      "provenance": [],
      "include_colab_link": true
    }
  },
  "cells": [
    {
      "cell_type": "markdown",
      "metadata": {
        "id": "view-in-github",
        "colab_type": "text"
      },
      "source": [
        "<a href=\"https://colab.research.google.com/github/Raizel820/Data_Wrangling/blob/master/sliderule_dsi_json_exercise_checkpoint.ipynb\" target=\"_parent\"><img src=\"https://colab.research.google.com/assets/colab-badge.svg\" alt=\"Open In Colab\"/></a>"
      ]
    },
    {
      "cell_type": "markdown",
      "metadata": {
        "id": "Xm5U9YA7jozW",
        "colab_type": "text"
      },
      "source": [
        "# JSON examples and exercise\n",
        "****\n",
        "+ get familiar with packages for dealing with JSON\n",
        "+ study examples with JSON strings and files \n",
        "+ work on exercise to be completed and submitted \n",
        "****\n",
        "+ reference: http://pandas-docs.github.io/pandas-docs-travis/io.html#json\n",
        "+ data source: http://jsonstudio.com/resources/\n",
        "****"
      ]
    },
    {
      "cell_type": "code",
      "metadata": {
        "id": "N4QXKp5gjozb",
        "colab_type": "code",
        "colab": {}
      },
      "source": [
        "import pandas as pd"
      ],
      "execution_count": 0,
      "outputs": []
    },
    {
      "cell_type": "markdown",
      "metadata": {
        "id": "hATNfwaGjozl",
        "colab_type": "text"
      },
      "source": [
        "## imports for Python, Pandas"
      ]
    },
    {
      "cell_type": "code",
      "metadata": {
        "id": "--6JEaPpjozm",
        "colab_type": "code",
        "colab": {}
      },
      "source": [
        "import json\n",
        "from pandas.io.json import json_normalize"
      ],
      "execution_count": 0,
      "outputs": []
    },
    {
      "cell_type": "markdown",
      "metadata": {
        "id": "UudLcT-2jozt",
        "colab_type": "text"
      },
      "source": [
        "## JSON example, with string\n",
        "\n",
        "+ demonstrates creation of normalized dataframes (tables) from nested json string\n",
        "+ source: http://pandas-docs.github.io/pandas-docs-travis/io.html#normalization"
      ]
    },
    {
      "cell_type": "code",
      "metadata": {
        "id": "iCBICKrujozv",
        "colab_type": "code",
        "colab": {}
      },
      "source": [
        "# define json string\n",
        "data = [{'state': 'Florida', \n",
        "         'shortname': 'FL',\n",
        "         'info': {'governor': 'Rick Scott'},\n",
        "         'counties': [{'name': 'Dade', 'population': 12345},\n",
        "                      {'name': 'Broward', 'population': 40000},\n",
        "                      {'name': 'Palm Beach', 'population': 60000}]},\n",
        "        {'state': 'Ohio',\n",
        "         'shortname': 'OH',\n",
        "         'info': {'governor': 'John Kasich'},\n",
        "         'counties': [{'name': 'Summit', 'population': 1234},\n",
        "                      {'name': 'Cuyahoga', 'population': 1337}]}]"
      ],
      "execution_count": 0,
      "outputs": []
    },
    {
      "cell_type": "code",
      "metadata": {
        "id": "877AWFhNjoz0",
        "colab_type": "code",
        "colab": {
          "base_uri": "https://localhost:8080/",
          "height": 206
        },
        "outputId": "3c6182dd-b69d-4125-ab7b-2773321f05cf"
      },
      "source": [
        "# use normalization to create tables from nested element\n",
        "json_normalize(data, 'counties')"
      ],
      "execution_count": 3,
      "outputs": [
        {
          "output_type": "execute_result",
          "data": {
            "text/html": [
              "<div>\n",
              "<style scoped>\n",
              "    .dataframe tbody tr th:only-of-type {\n",
              "        vertical-align: middle;\n",
              "    }\n",
              "\n",
              "    .dataframe tbody tr th {\n",
              "        vertical-align: top;\n",
              "    }\n",
              "\n",
              "    .dataframe thead th {\n",
              "        text-align: right;\n",
              "    }\n",
              "</style>\n",
              "<table border=\"1\" class=\"dataframe\">\n",
              "  <thead>\n",
              "    <tr style=\"text-align: right;\">\n",
              "      <th></th>\n",
              "      <th>name</th>\n",
              "      <th>population</th>\n",
              "    </tr>\n",
              "  </thead>\n",
              "  <tbody>\n",
              "    <tr>\n",
              "      <th>0</th>\n",
              "      <td>Dade</td>\n",
              "      <td>12345</td>\n",
              "    </tr>\n",
              "    <tr>\n",
              "      <th>1</th>\n",
              "      <td>Broward</td>\n",
              "      <td>40000</td>\n",
              "    </tr>\n",
              "    <tr>\n",
              "      <th>2</th>\n",
              "      <td>Palm Beach</td>\n",
              "      <td>60000</td>\n",
              "    </tr>\n",
              "    <tr>\n",
              "      <th>3</th>\n",
              "      <td>Summit</td>\n",
              "      <td>1234</td>\n",
              "    </tr>\n",
              "    <tr>\n",
              "      <th>4</th>\n",
              "      <td>Cuyahoga</td>\n",
              "      <td>1337</td>\n",
              "    </tr>\n",
              "  </tbody>\n",
              "</table>\n",
              "</div>"
            ],
            "text/plain": [
              "         name  population\n",
              "0        Dade       12345\n",
              "1     Broward       40000\n",
              "2  Palm Beach       60000\n",
              "3      Summit        1234\n",
              "4    Cuyahoga        1337"
            ]
          },
          "metadata": {
            "tags": []
          },
          "execution_count": 3
        }
      ]
    },
    {
      "cell_type": "code",
      "metadata": {
        "id": "xDXOEwTAjoz8",
        "colab_type": "code",
        "colab": {
          "base_uri": "https://localhost:8080/",
          "height": 206
        },
        "outputId": "c2e56e31-a03c-4352-f6c0-6f9b2a4c52b1"
      },
      "source": [
        "# further populate tables created from nested element\n",
        "json_normalize(data, 'counties', ['state', 'shortname', ['info', 'governor']])"
      ],
      "execution_count": 4,
      "outputs": [
        {
          "output_type": "execute_result",
          "data": {
            "text/html": [
              "<div>\n",
              "<style scoped>\n",
              "    .dataframe tbody tr th:only-of-type {\n",
              "        vertical-align: middle;\n",
              "    }\n",
              "\n",
              "    .dataframe tbody tr th {\n",
              "        vertical-align: top;\n",
              "    }\n",
              "\n",
              "    .dataframe thead th {\n",
              "        text-align: right;\n",
              "    }\n",
              "</style>\n",
              "<table border=\"1\" class=\"dataframe\">\n",
              "  <thead>\n",
              "    <tr style=\"text-align: right;\">\n",
              "      <th></th>\n",
              "      <th>name</th>\n",
              "      <th>population</th>\n",
              "      <th>info.governor</th>\n",
              "      <th>state</th>\n",
              "      <th>shortname</th>\n",
              "    </tr>\n",
              "  </thead>\n",
              "  <tbody>\n",
              "    <tr>\n",
              "      <th>0</th>\n",
              "      <td>Dade</td>\n",
              "      <td>12345</td>\n",
              "      <td>Rick Scott</td>\n",
              "      <td>Florida</td>\n",
              "      <td>FL</td>\n",
              "    </tr>\n",
              "    <tr>\n",
              "      <th>1</th>\n",
              "      <td>Broward</td>\n",
              "      <td>40000</td>\n",
              "      <td>Rick Scott</td>\n",
              "      <td>Florida</td>\n",
              "      <td>FL</td>\n",
              "    </tr>\n",
              "    <tr>\n",
              "      <th>2</th>\n",
              "      <td>Palm Beach</td>\n",
              "      <td>60000</td>\n",
              "      <td>Rick Scott</td>\n",
              "      <td>Florida</td>\n",
              "      <td>FL</td>\n",
              "    </tr>\n",
              "    <tr>\n",
              "      <th>3</th>\n",
              "      <td>Summit</td>\n",
              "      <td>1234</td>\n",
              "      <td>John Kasich</td>\n",
              "      <td>Ohio</td>\n",
              "      <td>OH</td>\n",
              "    </tr>\n",
              "    <tr>\n",
              "      <th>4</th>\n",
              "      <td>Cuyahoga</td>\n",
              "      <td>1337</td>\n",
              "      <td>John Kasich</td>\n",
              "      <td>Ohio</td>\n",
              "      <td>OH</td>\n",
              "    </tr>\n",
              "  </tbody>\n",
              "</table>\n",
              "</div>"
            ],
            "text/plain": [
              "         name  population info.governor    state shortname\n",
              "0        Dade       12345    Rick Scott  Florida        FL\n",
              "1     Broward       40000    Rick Scott  Florida        FL\n",
              "2  Palm Beach       60000    Rick Scott  Florida        FL\n",
              "3      Summit        1234   John Kasich     Ohio        OH\n",
              "4    Cuyahoga        1337   John Kasich     Ohio        OH"
            ]
          },
          "metadata": {
            "tags": []
          },
          "execution_count": 4
        }
      ]
    },
    {
      "cell_type": "markdown",
      "metadata": {
        "id": "1qj5D1Ccjo0B",
        "colab_type": "text"
      },
      "source": [
        "****\n",
        "## JSON example, with file\n",
        "\n",
        "+ demonstrates reading in a json file as a string and as a table\n",
        "+ uses small sample file containing data about projects funded by the World Bank \n",
        "+ data source: http://jsonstudio.com/resources/"
      ]
    },
    {
      "cell_type": "code",
      "metadata": {
        "id": "xOELS0R8lXby",
        "colab_type": "code",
        "colab": {}
      },
      "source": [
        "import urllib, json\n",
        "\n",
        "url = \"https://raw.githubusercontent.com/Raizel820/Data_Wrangling/master/data/world_bank_projects_less.json\"\n",
        "response = urllib.urlopen(url)\n",
        "data = json.loads(response.read())\n"
      ],
      "execution_count": 0,
      "outputs": []
    },
    {
      "cell_type": "code",
      "metadata": {
        "id": "9rIutY1ll_5n",
        "colab_type": "code",
        "colab": {}
      },
      "source": [
        "sample_json_df = pd.read_json(url)\n",
        "sample_json_df\n",
        "df=sample_json_df"
      ],
      "execution_count": 0,
      "outputs": []
    },
    {
      "cell_type": "code",
      "metadata": {
        "id": "au4FwQ-8nIXu",
        "colab_type": "code",
        "colab": {}
      },
      "source": [
        "sample_json_df.info()"
      ],
      "execution_count": 0,
      "outputs": []
    },
    {
      "cell_type": "code",
      "metadata": {
        "id": "iCi7ZaDFnjc2",
        "colab_type": "code",
        "colab": {
          "base_uri": "https://localhost:8080/",
          "height": 36
        },
        "outputId": "5bbd85b5-3373-45b0-cef4-4eaf23cc2d83"
      },
      "source": [
        "df.shape"
      ],
      "execution_count": 23,
      "outputs": [
        {
          "output_type": "execute_result",
          "data": {
            "text/plain": [
              "(2, 50)"
            ]
          },
          "metadata": {
            "tags": []
          },
          "execution_count": 23
        }
      ]
    },
    {
      "cell_type": "markdown",
      "metadata": {
        "id": "eb8zUhF6jo0Q",
        "colab_type": "text"
      },
      "source": [
        "****\n",
        "## JSON exercise\n",
        "\n",
        "Using data in file 'data/world_bank_projects.json' and the techniques demonstrated above,\n",
        "1. Find the 10 countries with most projects\n",
        "2. Find the top 10 major project themes (using column 'mjtheme_namecode')\n",
        "3. In 2. above you will notice that some entries have only the code and the name is missing. Create a dataframe with the missing names filled in."
      ]
    },
    {
      "cell_type": "code",
      "metadata": {
        "id": "6jJ4xn9wjo0S",
        "colab_type": "code",
        "colab": {
          "base_uri": "https://localhost:8080/",
          "height": 643
        },
        "outputId": "09043772-34db-45b1-fd26-b6d2906cd363"
      },
      "source": [
        "import urllib, json\n",
        "\n",
        "url = \"https://raw.githubusercontent.com/Raizel820/Data_Wrangling/master/data/world_bank_projects.json\"\n",
        "df = pd.read_json(url)\n",
        "df.sample(5)"
      ],
      "execution_count": 13,
      "outputs": [
        {
          "output_type": "execute_result",
          "data": {
            "text/html": [
              "<div>\n",
              "<style scoped>\n",
              "    .dataframe tbody tr th:only-of-type {\n",
              "        vertical-align: middle;\n",
              "    }\n",
              "\n",
              "    .dataframe tbody tr th {\n",
              "        vertical-align: top;\n",
              "    }\n",
              "\n",
              "    .dataframe thead th {\n",
              "        text-align: right;\n",
              "    }\n",
              "</style>\n",
              "<table border=\"1\" class=\"dataframe\">\n",
              "  <thead>\n",
              "    <tr style=\"text-align: right;\">\n",
              "      <th></th>\n",
              "      <th>_id</th>\n",
              "      <th>approvalfy</th>\n",
              "      <th>board_approval_month</th>\n",
              "      <th>boardapprovaldate</th>\n",
              "      <th>borrower</th>\n",
              "      <th>closingdate</th>\n",
              "      <th>country_namecode</th>\n",
              "      <th>countrycode</th>\n",
              "      <th>countryname</th>\n",
              "      <th>countryshortname</th>\n",
              "      <th>docty</th>\n",
              "      <th>envassesmentcategorycode</th>\n",
              "      <th>grantamt</th>\n",
              "      <th>ibrdcommamt</th>\n",
              "      <th>id</th>\n",
              "      <th>idacommamt</th>\n",
              "      <th>impagency</th>\n",
              "      <th>lendinginstr</th>\n",
              "      <th>lendinginstrtype</th>\n",
              "      <th>lendprojectcost</th>\n",
              "      <th>majorsector_percent</th>\n",
              "      <th>mjsector_namecode</th>\n",
              "      <th>mjtheme</th>\n",
              "      <th>mjtheme_namecode</th>\n",
              "      <th>mjthemecode</th>\n",
              "      <th>prodline</th>\n",
              "      <th>prodlinetext</th>\n",
              "      <th>productlinetype</th>\n",
              "      <th>project_abstract</th>\n",
              "      <th>project_name</th>\n",
              "      <th>projectdocs</th>\n",
              "      <th>projectfinancialtype</th>\n",
              "      <th>projectstatusdisplay</th>\n",
              "      <th>regionname</th>\n",
              "      <th>sector</th>\n",
              "      <th>sector1</th>\n",
              "      <th>sector2</th>\n",
              "      <th>sector3</th>\n",
              "      <th>sector4</th>\n",
              "      <th>sector_namecode</th>\n",
              "      <th>sectorcode</th>\n",
              "      <th>source</th>\n",
              "      <th>status</th>\n",
              "      <th>supplementprojectflg</th>\n",
              "      <th>theme1</th>\n",
              "      <th>theme_namecode</th>\n",
              "      <th>themecode</th>\n",
              "      <th>totalamt</th>\n",
              "      <th>totalcommamt</th>\n",
              "      <th>url</th>\n",
              "    </tr>\n",
              "  </thead>\n",
              "  <tbody>\n",
              "    <tr>\n",
              "      <th>481</th>\n",
              "      <td>{u'$oid': u'52b213b38594d8a2be17c961'}</td>\n",
              "      <td>2013</td>\n",
              "      <td>September</td>\n",
              "      <td>2012-09-06T00:00:00Z</td>\n",
              "      <td>GOVERNMENT OF INDIA</td>\n",
              "      <td>2015-12-31T00:00:00Z</td>\n",
              "      <td>Republic of India!$!IN</td>\n",
              "      <td>IN</td>\n",
              "      <td>Republic of India</td>\n",
              "      <td>India</td>\n",
              "      <td>Implementation Status and Results Report,Agree...</td>\n",
              "      <td>C</td>\n",
              "      <td>0</td>\n",
              "      <td>0</td>\n",
              "      <td>P121731</td>\n",
              "      <td>106000000</td>\n",
              "      <td>GOVERNMENT OF INDIA</td>\n",
              "      <td>Adaptable Program Loan</td>\n",
              "      <td>IN</td>\n",
              "      <td>151500000</td>\n",
              "      <td>[{u'Percent': 56, u'Name': u'Public Administra...</td>\n",
              "      <td>[{u'code': u'BX', u'name': u'Public Administra...</td>\n",
              "      <td>[Human development, Social dev/gender/inclusio...</td>\n",
              "      <td>[{u'code': u'8', u'name': u'Human development'...</td>\n",
              "      <td>8,7,7,8</td>\n",
              "      <td>PE</td>\n",
              "      <td>IBRD/IDA</td>\n",
              "      <td>L</td>\n",
              "      <td>{u'cdata': u'The objective of Integrated Child...</td>\n",
              "      <td>India: ICDS Systems Strengthening &amp; Nutrition ...</td>\n",
              "      <td>[{u'DocDate': u'10-SEP-2013', u'EntityID': u'0...</td>\n",
              "      <td>IDA</td>\n",
              "      <td>Active</td>\n",
              "      <td>South Asia</td>\n",
              "      <td>[{u'Name': u'Sub-national government administr...</td>\n",
              "      <td>{u'Percent': 56, u'Name': u'Sub-national gover...</td>\n",
              "      <td>{u'Percent': 30, u'Name': u'Public administrat...</td>\n",
              "      <td>{u'Percent': 10, u'Name': u'Pre-primary educat...</td>\n",
              "      <td>{u'Percent': 4, u'Name': u'Central government ...</td>\n",
              "      <td>[{u'code': u'BH', u'name': u'Sub-national gove...</td>\n",
              "      <td>BC,EC,BQ,BH</td>\n",
              "      <td>IBRD</td>\n",
              "      <td>Active</td>\n",
              "      <td>N</td>\n",
              "      <td>{u'Percent': 23, u'Name': u'Child health'}</td>\n",
              "      <td>[{u'code': u'63', u'name': u'Child health'}, {...</td>\n",
              "      <td>68,59,57,63</td>\n",
              "      <td>106000000</td>\n",
              "      <td>106000000</td>\n",
              "      <td>http://www.worldbank.org/projects/P121731/icds...</td>\n",
              "    </tr>\n",
              "    <tr>\n",
              "      <th>263</th>\n",
              "      <td>{u'$oid': u'52b213b38594d8a2be17c887'}</td>\n",
              "      <td>2013</td>\n",
              "      <td>March</td>\n",
              "      <td>2013-03-27T00:00:00Z</td>\n",
              "      <td>HALKBANK,VAKIFBANK,ZIRAATBANK</td>\n",
              "      <td>2018-09-28T00:00:00Z</td>\n",
              "      <td>Republic of Turkey!$!TR</td>\n",
              "      <td>TR</td>\n",
              "      <td>Republic of Turkey</td>\n",
              "      <td>Turkey</td>\n",
              "      <td>NaN</td>\n",
              "      <td>F</td>\n",
              "      <td>3640000</td>\n",
              "      <td>0</td>\n",
              "      <td>P132189</td>\n",
              "      <td>0</td>\n",
              "      <td>HALKBANK,VAKIFBANK,ZIRAATBANK,MENR</td>\n",
              "      <td>Specific Investment Loan</td>\n",
              "      <td>IN</td>\n",
              "      <td>203640000</td>\n",
              "      <td>[{u'Percent': 56, u'Name': u'Energy and mining...</td>\n",
              "      <td>[{u'code': u'LX', u'name': u'Energy and mining...</td>\n",
              "      <td>[Financial and private sector development, Env...</td>\n",
              "      <td>[{u'code': u'4', u'name': u'Financial and priv...</td>\n",
              "      <td>4,11</td>\n",
              "      <td>GE</td>\n",
              "      <td>Global Environment Project</td>\n",
              "      <td>L</td>\n",
              "      <td>NaN</td>\n",
              "      <td>Turkey SME&amp;#12288;Energy Efficiency Project</td>\n",
              "      <td>NaN</td>\n",
              "      <td>OTHER</td>\n",
              "      <td>Active</td>\n",
              "      <td>Europe and Central Asia</td>\n",
              "      <td>[{u'Name': u'Energy efficiency in Heat and Pow...</td>\n",
              "      <td>{u'Percent': 56, u'Name': u'Energy efficiency ...</td>\n",
              "      <td>{u'Percent': 26, u'Name': u'Public administrat...</td>\n",
              "      <td>{u'Percent': 18, u'Name': u'SME Finance'}</td>\n",
              "      <td>NaN</td>\n",
              "      <td>[{u'code': u'LA', u'name': u'Energy efficiency...</td>\n",
              "      <td>FH,BU,LA</td>\n",
              "      <td>IBRD</td>\n",
              "      <td>Active</td>\n",
              "      <td>Y</td>\n",
              "      <td>{u'Percent': 25, u'Name': u'Micro, Small and M...</td>\n",
              "      <td>[{u'code': u'41', u'name': u'Micro, Small and ...</td>\n",
              "      <td>81,41</td>\n",
              "      <td>0</td>\n",
              "      <td>3640000</td>\n",
              "      <td>http://www.worldbank.org/projects/P132189/turk...</td>\n",
              "    </tr>\n",
              "    <tr>\n",
              "      <th>36</th>\n",
              "      <td>{u'$oid': u'52b213b38594d8a2be17c7a4'}</td>\n",
              "      <td>2014</td>\n",
              "      <td>September</td>\n",
              "      <td>2013-09-24T00:00:00Z</td>\n",
              "      <td>REPUBLIC OF THE UNION OF MYANMAR</td>\n",
              "      <td>2018-04-30T00:00:00Z</td>\n",
              "      <td>Republic of the Union of Myanmar!$!MM</td>\n",
              "      <td>MM</td>\n",
              "      <td>Republic of the Union of Myanmar</td>\n",
              "      <td>Myanmar</td>\n",
              "      <td>Financing Agreement,Disbursement Letter,Board ...</td>\n",
              "      <td>B</td>\n",
              "      <td>0</td>\n",
              "      <td>0</td>\n",
              "      <td>P143988</td>\n",
              "      <td>140000000</td>\n",
              "      <td>MINISTRY OF ELECTRIC POWER</td>\n",
              "      <td>Investment Project Financing</td>\n",
              "      <td>IN</td>\n",
              "      <td>140000000</td>\n",
              "      <td>[{u'Percent': 100, u'Name': u'Energy and minin...</td>\n",
              "      <td>[{u'code': u'LX', u'name': u'Energy and mining'}]</td>\n",
              "      <td>[Rural development]</td>\n",
              "      <td>[{u'code': u'10', u'name': u'Rural development...</td>\n",
              "      <td>10,11</td>\n",
              "      <td>PE</td>\n",
              "      <td>IBRD/IDA</td>\n",
              "      <td>L</td>\n",
              "      <td>{u'cdata': u'The development objective of the ...</td>\n",
              "      <td>Electric Power Project</td>\n",
              "      <td>[{u'DocDate': u'12-OCT-2013', u'EntityID': u'0...</td>\n",
              "      <td>IDA</td>\n",
              "      <td>Active</td>\n",
              "      <td>East Asia and Pacific</td>\n",
              "      <td>[{u'Name': u'Thermal Power Generation'}]</td>\n",
              "      <td>{u'Percent': 100, u'Name': u'Thermal Power Gen...</td>\n",
              "      <td>NaN</td>\n",
              "      <td>NaN</td>\n",
              "      <td>NaN</td>\n",
              "      <td>[{u'code': u'LG', u'name': u'Thermal Power Gen...</td>\n",
              "      <td>LG</td>\n",
              "      <td>IBRD</td>\n",
              "      <td>Active</td>\n",
              "      <td>N</td>\n",
              "      <td>{u'Percent': 100, u'Name': u'Rural services an...</td>\n",
              "      <td>[{u'code': u'78', u'name': u'Rural services an...</td>\n",
              "      <td>78</td>\n",
              "      <td>140000000</td>\n",
              "      <td>140000000</td>\n",
              "      <td>http://www.worldbank.org/projects/P143988/elec...</td>\n",
              "    </tr>\n",
              "    <tr>\n",
              "      <th>312</th>\n",
              "      <td>{u'$oid': u'52b213b38594d8a2be17c8b8'}</td>\n",
              "      <td>2013</td>\n",
              "      <td>February</td>\n",
              "      <td>2013-02-21T00:00:00Z</td>\n",
              "      <td>GOVERNMENT OF PAPUA NEW GUINEA</td>\n",
              "      <td>2016-12-31T00:00:00Z</td>\n",
              "      <td>The Independent State of Papua New Guine!$!PG</td>\n",
              "      <td>PG</td>\n",
              "      <td>The Independent State of Papua New Guine</td>\n",
              "      <td>Papua New Guinea</td>\n",
              "      <td>NaN</td>\n",
              "      <td>C</td>\n",
              "      <td>900000</td>\n",
              "      <td>0</td>\n",
              "      <td>P122974</td>\n",
              "      <td>0</td>\n",
              "      <td>DEPT OF PETROLEUM AND ENERGY AND PNG POWER LTD</td>\n",
              "      <td>Technical Assistance Loan</td>\n",
              "      <td>IN</td>\n",
              "      <td>7900000</td>\n",
              "      <td>[{u'Percent': 100, u'Name': u'Public Administr...</td>\n",
              "      <td>[{u'code': u'BX', u'name': u'Public Administra...</td>\n",
              "      <td>[Environment and natural resources management,...</td>\n",
              "      <td>[{u'code': u'11', u'name': u'Environment and n...</td>\n",
              "      <td>11,4,10</td>\n",
              "      <td>GM</td>\n",
              "      <td>GEF Medium Sized Program</td>\n",
              "      <td>L</td>\n",
              "      <td>NaN</td>\n",
              "      <td>GM- PG Energy Sector Development Project</td>\n",
              "      <td>NaN</td>\n",
              "      <td>OTHER</td>\n",
              "      <td>Active</td>\n",
              "      <td>East Asia and Pacific</td>\n",
              "      <td>[{u'Name': u'Public administration- Energy and...</td>\n",
              "      <td>{u'Percent': 100, u'Name': u'Public administra...</td>\n",
              "      <td>NaN</td>\n",
              "      <td>NaN</td>\n",
              "      <td>NaN</td>\n",
              "      <td>[{u'code': u'BU', u'name': u'Public administra...</td>\n",
              "      <td>BU</td>\n",
              "      <td>IBRD</td>\n",
              "      <td>Active</td>\n",
              "      <td>Y</td>\n",
              "      <td>{u'Percent': 25, u'Name': u'Climate change'}</td>\n",
              "      <td>[{u'code': u'81', u'name': u'Climate change'},...</td>\n",
              "      <td>78,39,81</td>\n",
              "      <td>0</td>\n",
              "      <td>900000</td>\n",
              "      <td>http://www.worldbank.org/projects/P122974/gm--...</td>\n",
              "    </tr>\n",
              "    <tr>\n",
              "      <th>482</th>\n",
              "      <td>{u'$oid': u'52b213b38594d8a2be17c962'}</td>\n",
              "      <td>2013</td>\n",
              "      <td>September</td>\n",
              "      <td>2012-09-06T00:00:00Z</td>\n",
              "      <td>GOVERNMENT OF INDIA</td>\n",
              "      <td>2018-12-31T00:00:00Z</td>\n",
              "      <td>Republic of India!$!IN</td>\n",
              "      <td>IN</td>\n",
              "      <td>Republic of India</td>\n",
              "      <td>India</td>\n",
              "      <td>Implementation Status and Results Report,Imple...</td>\n",
              "      <td>B</td>\n",
              "      <td>0</td>\n",
              "      <td>0</td>\n",
              "      <td>P122486</td>\n",
              "      <td>60000000</td>\n",
              "      <td>GOVERNMENT OF KARNATAKA, WATERSHED DEVELOPMENT...</td>\n",
              "      <td>Specific Investment Loan</td>\n",
              "      <td>IN</td>\n",
              "      <td>85700000</td>\n",
              "      <td>[{u'Percent': 45, u'Name': u'Agriculture, fish...</td>\n",
              "      <td>[{u'code': u'AX', u'name': u'Agriculture, fish...</td>\n",
              "      <td>[Rural development, Environment and natural re...</td>\n",
              "      <td>[{u'code': u'10', u'name': u'Rural development...</td>\n",
              "      <td>10,11,11,10</td>\n",
              "      <td>PE</td>\n",
              "      <td>IBRD/IDA</td>\n",
              "      <td>L</td>\n",
              "      <td>{u'cdata': u'The objective of the Second Karna...</td>\n",
              "      <td>Karnataka Watershed Development II</td>\n",
              "      <td>[{u'DocDate': u'05-NOV-2013', u'EntityID': u'0...</td>\n",
              "      <td>IDA</td>\n",
              "      <td>Active</td>\n",
              "      <td>South Asia</td>\n",
              "      <td>[{u'Name': u'Agricultural extension and resear...</td>\n",
              "      <td>{u'Percent': 45, u'Name': u'Agricultural exten...</td>\n",
              "      <td>{u'Percent': 21, u'Name': u'Public administrat...</td>\n",
              "      <td>{u'Percent': 12, u'Name': u'Crops'}</td>\n",
              "      <td>{u'Percent': 12, u'Name': u'Agro-industry, mar...</td>\n",
              "      <td>[{u'code': u'AB', u'name': u'Agricultural exte...</td>\n",
              "      <td>AI,YA,AH,BL,AB</td>\n",
              "      <td>IBRD</td>\n",
              "      <td>Active</td>\n",
              "      <td>N</td>\n",
              "      <td>{u'Percent': 10, u'Name': u'Rural services and...</td>\n",
              "      <td>[{u'code': u'78', u'name': u'Rural services an...</td>\n",
              "      <td>79,85,86,78</td>\n",
              "      <td>60000000</td>\n",
              "      <td>60000000</td>\n",
              "      <td>http://www.worldbank.org/projects/P122486/karn...</td>\n",
              "    </tr>\n",
              "  </tbody>\n",
              "</table>\n",
              "</div>"
            ],
            "text/plain": [
              "                                        _id  ...                                                url\n",
              "481  {u'$oid': u'52b213b38594d8a2be17c961'}  ...  http://www.worldbank.org/projects/P121731/icds...\n",
              "263  {u'$oid': u'52b213b38594d8a2be17c887'}  ...  http://www.worldbank.org/projects/P132189/turk...\n",
              "36   {u'$oid': u'52b213b38594d8a2be17c7a4'}  ...  http://www.worldbank.org/projects/P143988/elec...\n",
              "312  {u'$oid': u'52b213b38594d8a2be17c8b8'}  ...  http://www.worldbank.org/projects/P122974/gm--...\n",
              "482  {u'$oid': u'52b213b38594d8a2be17c962'}  ...  http://www.worldbank.org/projects/P122486/karn...\n",
              "\n",
              "[5 rows x 50 columns]"
            ]
          },
          "metadata": {
            "tags": []
          },
          "execution_count": 13
        }
      ]
    },
    {
      "cell_type": "code",
      "metadata": {
        "id": "QSWfIK239lys",
        "colab_type": "code",
        "colab": {
          "base_uri": "https://localhost:8080/",
          "height": 223
        },
        "outputId": "22e238b3-c60d-4327-fd52-aa481185fa57"
      },
      "source": [
        "df.countryname.value_counts().head(10)"
      ],
      "execution_count": 28,
      "outputs": [
        {
          "output_type": "execute_result",
          "data": {
            "text/plain": [
              "People's Republic of China         19\n",
              "Republic of Indonesia              19\n",
              "Socialist Republic of Vietnam      17\n",
              "Republic of India                  16\n",
              "Republic of Yemen                  13\n",
              "Kingdom of Morocco                 12\n",
              "People's Republic of Bangladesh    12\n",
              "Nepal                              12\n",
              "Republic of Mozambique             11\n",
              "Africa                             11\n",
              "Name: countryname, dtype: int64"
            ]
          },
          "metadata": {
            "tags": []
          },
          "execution_count": 28
        }
      ]
    },
    {
      "cell_type": "code",
      "metadata": {
        "id": "13Yu3Hh-LYIk",
        "colab_type": "code",
        "colab": {
          "base_uri": "https://localhost:8080/",
          "height": 243
        },
        "outputId": "ccab04f1-0270-4425-a18b-ab127c4933e9"
      },
      "source": [
        "df.mjtheme_namecode.value_counts().head(10) \n"
      ],
      "execution_count": 125,
      "outputs": [
        {
          "output_type": "execute_result",
          "data": {
            "text/plain": [
              "[{u'code': u'11', u'name': u'Environment and natural resources management'}, {u'code': u'11', u'name': u'Environment and natural resources management'}]                                                                                            12\n",
              "[{u'code': u'8', u'name': u'Human development'}, {u'code': u'11', u'name': u''}]                                                                                                                                                                    11\n",
              "[{u'code': u'8', u'name': u'Human development'}, {u'code': u'8', u'name': u'Human development'}]                                                                                                                                                     8\n",
              "[{u'code': u'4', u'name': u'Financial and private sector development'}, {u'code': u'4', u'name': u'Financial and private sector development'}]                                                                                                       6\n",
              "[{u'code': u'2', u'name': u'Public sector governance'}, {u'code': u'2', u'name': u'Public sector governance'}, {u'code': u'2', u'name': u'Public sector governance'}]                                                                                6\n",
              "[{u'code': u'8', u'name': u'Human development'}, {u'code': u'7', u'name': u'Social dev/gender/inclusion'}]                                                                                                                                           5\n",
              "[{u'code': u'8', u'name': u'Human development'}, {u'code': u'8', u'name': u'Human development'}, {u'code': u'8', u'name': u'Human development'}, {u'code': u'8', u'name': u'Human development'}, {u'code': u'8', u'name': u'Human development'}]     5\n",
              "[{u'code': u'11', u'name': u'Environment and natural resources management'}, {u'code': u'11', u'name': u''}]                                                                                                                                         5\n",
              "[{u'code': u'11', u'name': u'Environment and natural resources management'}, {u'code': u'4', u'name': u''}]                                                                                                                                          5\n",
              "[{u'code': u'4', u'name': u'Financial and private sector development'}, {u'code': u'5', u'name': u'Trade and integration'}]                                                                                                                          5\n",
              "Name: mjtheme_namecode, dtype: int64"
            ]
          },
          "metadata": {
            "tags": []
          },
          "execution_count": 125
        }
      ]
    },
    {
      "cell_type": "code",
      "metadata": {
        "id": "5WlGQuegOoZ2",
        "colab_type": "code",
        "colab": {
          "base_uri": "https://localhost:8080/",
          "height": 223
        },
        "outputId": "09cc752c-88dc-4d17-a749-2f532eb50520"
      },
      "source": [
        "df.mjtheme_namecode.fillna(method ='pad').value_counts().head(10)"
      ],
      "execution_count": 57,
      "outputs": [
        {
          "output_type": "execute_result",
          "data": {
            "text/plain": [
              "0    [{u'code': u'8', u'name': u'Human development'...\n",
              "1    [{u'code': u'1', u'name': u'Economic managemen...\n",
              "2    [{u'code': u'5', u'name': u'Trade and integrat...\n",
              "3    [{u'code': u'7', u'name': u'Social dev/gender/...\n",
              "4    [{u'code': u'5', u'name': u'Trade and integrat...\n",
              "5    [{u'code': u'6', u'name': u'Social protection ...\n",
              "6    [{u'code': u'2', u'name': u'Public sector gove...\n",
              "7    [{u'code': u'11', u'name': u'Environment and n...\n",
              "8    [{u'code': u'10', u'name': u'Rural development...\n",
              "9    [{u'code': u'2', u'name': u'Public sector gove...\n",
              "Name: mjtheme_namecode, dtype: object"
            ]
          },
          "metadata": {
            "tags": []
          },
          "execution_count": 57
        }
      ]
    },
    {
      "cell_type": "code",
      "metadata": {
        "id": "r9y42Tv9Y_rp",
        "colab_type": "code",
        "colab": {}
      },
      "source": [
        "def get_number(list_of_dict):\n",
        "  num = 0\n",
        "  for d in list_of_dict:\n",
        "    num = num + df['mjtheme_namecode']\n",
        "  return num"
      ],
      "execution_count": 0,
      "outputs": []
    },
    {
      "cell_type": "code",
      "metadata": {
        "id": "U1zs0I7OZgmF",
        "colab_type": "code",
        "colab": {}
      },
      "source": [
        "get_number(df[0])"
      ],
      "execution_count": 0,
      "outputs": []
    }
  ]
}